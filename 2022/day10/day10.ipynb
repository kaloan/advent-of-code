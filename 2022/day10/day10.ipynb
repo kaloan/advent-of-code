{
 "cells": [
  {
   "cell_type": "code",
   "execution_count": 4,
   "metadata": {},
   "outputs": [],
   "source": [
    "using Pipe"
   ]
  },
  {
   "cell_type": "code",
   "execution_count": 7,
   "metadata": {},
   "outputs": [
    {
     "data": {
      "text/plain": [
       "Dict{String, Tuple{Function, Int64}} with 2 entries:\n",
       "  \"addx\" => (#9, 2)\n",
       "  \"noop\" => (#10, 1)"
      ]
     },
     "execution_count": 7,
     "metadata": {},
     "output_type": "execute_result"
    }
   ],
   "source": [
    "instructions = Dict(\"addx\" => ((x, y) -> x + y, 2), \"noop\" => ((x, y) -> x, 1))"
   ]
  },
  {
   "cell_type": "code",
   "execution_count": 31,
   "metadata": {},
   "outputs": [
    {
     "name": "stdout",
     "output_type": "stream",
     "text": [
      "####..##....##.###...##...##..####.#..#.\n",
      "#....#..#....#.#..#.#..#.#..#.#....#.#..\n",
      "###..#.......#.###..#....#....###..##...\n",
      "#....#.##....#.#..#.#.##.#....#....#.#..\n",
      "#....#..#.#..#.#..#.#..#.#..#.#....#.#..\n",
      "####..###..##..###...###..##..#....#..#.\n"
     ]
    },
    {
     "data": {
      "text/plain": [
       "13480"
      ]
     },
     "execution_count": 31,
     "metadata": {},
     "output_type": "execute_result"
    }
   ],
   "source": [
    "input = readlines(\"input.txt\")\n",
    "signalStrenthAtMarks = Vector{Int64}()\n",
    "mark = 20\n",
    "tick = 1\n",
    "X = 1\n",
    "crtLine = \"\"\n",
    "crtWidth = 40\n",
    "\n",
    "for line in input\n",
    "  splitted = map(string, split(line))\n",
    "  op = instructions[splitted[1]]\n",
    "  if splitted[1] == \"noop\"\n",
    "    push!(splitted, \"1\")\n",
    "  end\n",
    "  val = parse(Int64, splitted[2])\n",
    "\n",
    "  for i in 1:op[2]\n",
    "    if tick % crtWidth in [X, X+1, X+2]\n",
    "      crtLine *= \"#\"\n",
    "    else\n",
    "      crtLine *= \".\"\n",
    "    end\n",
    "    if crtLine |> length == crtWidth\n",
    "      crtLine |> println\n",
    "      crtLine = \"\"\n",
    "    end\n",
    "\n",
    "    if tick == mark\n",
    "      push!(signalStrenthAtMarks, X*mark)\n",
    "      mark += 40\n",
    "    end\n",
    "    tick += 1\n",
    "  end\n",
    "\n",
    "  X = op[1](X, val)\n",
    "end\n",
    "\n",
    "signalStrenthAtMarks |> sum"
   ]
  }
 ],
 "metadata": {
  "kernelspec": {
   "display_name": "Julia 1.8.3",
   "language": "julia",
   "name": "julia-1.8"
  },
  "language_info": {
   "file_extension": ".jl",
   "mimetype": "application/julia",
   "name": "julia",
   "version": "1.8.3"
  },
  "orig_nbformat": 4
 },
 "nbformat": 4,
 "nbformat_minor": 2
}
