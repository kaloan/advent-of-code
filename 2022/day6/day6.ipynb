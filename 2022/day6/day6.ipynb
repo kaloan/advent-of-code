{
 "cells": [
  {
   "cell_type": "code",
   "execution_count": null,
   "metadata": {},
   "outputs": [],
   "source": [
    "calculateEnding(datastream::String, markerLength::Int64=4) =\n",
    "  begin\n",
    "    # charLastOccurences = repeat([0], 26)\n",
    "    # for char in datastream[1:markerLength-1]\n",
    "    #   charLastOccurences[char-'a'+1]+=1\n",
    "    # end\n",
    "    # singleOccurences = filter(x -> x == 1, charLastOccurences) |> length\n",
    "    # for i in markerLength:length(datastream)\n",
    "    #   charLastOccurences[datastream[i] - 'a' + 1]+=1\n",
    "    #   if(charLastOccurences[datastream[i] - 'a' + 1] == 1)\n",
    "    #     singleOccurences+=1\n",
    "    #   else\n",
    "    #     singleOccurences-=1\n",
    "    #     if(datastream[i - markerLength + 1] == datastream[i] && )\n",
    "    #   end\n",
    "    #   println(i, \" - \", charLastOccurences, \" - \", singleOccurences)\n",
    "    #   if(singleOccurences == markerLength)\n",
    "    #     return i\n",
    "    #   end\n",
    "    #   charLastOccurences[datastream[i - markerLength + 1] - 'a' + 1]-=1\n",
    "    #   if(charLastOccurences[datastream[i - markerLength + 1] - 'a' + 1] == 1)\n",
    "    #     singleOccurences+=1\n",
    "    #   end\n",
    "    # end\n",
    "    charLastOccurences = repeat([0], 26)\n",
    "    for char in datastream[1:markerLength-1]\n",
    "      charLastOccurences[char-'a'+1]+=1\n",
    "    end\n",
    "    for i in markerLength:length(datastream)\n",
    "      charLastOccurences[datastream[i] - 'a' + 1]+=1\n",
    "      if(filter(x -> x == 1, charLastOccurences) |> length == markerLength)\n",
    "        return i\n",
    "      end\n",
    "      charLastOccurences[datastream[i - markerLength + 1] - 'a' + 1]-=1\n",
    "    end\n",
    "  end"
   ]
  },
  {
   "cell_type": "code",
   "execution_count": null,
   "metadata": {},
   "outputs": [],
   "source": [
    "input = readlines(\"input.txt\")"
   ]
  },
  {
   "cell_type": "code",
   "execution_count": null,
   "metadata": {},
   "outputs": [],
   "source": [
    "# task 1\n",
    "map(calculateEnding, input)"
   ]
  },
  {
   "cell_type": "code",
   "execution_count": null,
   "metadata": {},
   "outputs": [],
   "source": [
    "# task 2\n",
    "map(x -> calculateEnding(x, 14), input)"
   ]
  }
 ],
 "metadata": {
  "kernelspec": {
   "display_name": "Julia 1.8.3",
   "language": "julia",
   "name": "julia-1.8"
  },
  "language_info": {
   "file_extension": ".jl",
   "mimetype": "application/julia",
   "name": "julia",
   "version": "1.8.3"
  },
  "orig_nbformat": 4
 },
 "nbformat": 4,
 "nbformat_minor": 2
}
