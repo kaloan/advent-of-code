{
 "cells": [
  {
   "cell_type": "code",
   "execution_count": 2,
   "metadata": {},
   "outputs": [],
   "source": [
    "using Pipe"
   ]
  },
  {
   "cell_type": "code",
   "execution_count": 77,
   "metadata": {},
   "outputs": [
    {
     "data": {
      "text/plain": [
       "displayKnots (generic function with 1 method)"
      ]
     },
     "execution_count": 77,
     "metadata": {},
     "output_type": "execute_result"
    }
   ],
   "source": [
    "normInf(vec::Tuple{Int64, Int64}) =\n",
    "  begin\n",
    "    # return map((x->x*x), vec) |> sum |> sqrt\n",
    "    # return map(abs, vec) |> sum\n",
    "    return map(abs, vec) |> Base.splat(max)\n",
    "  end\n",
    "\n",
    "norm1(vec::Tuple{Int64, Int64}) =\n",
    "  begin\n",
    "    return map(abs, vec) |> sum\n",
    "  end\n",
    "\n",
    "normalize(vec::Tuple{Int64, Int64}) =\n",
    "  begin\n",
    "    size = normInf(vec)\n",
    "    if (size == 0)\n",
    "      return vec\n",
    "    end\n",
    "    return map(x -> div(x, size), vec)\n",
    "  end\n",
    "\n",
    "displayKnots(knots::Vector{Tuple{Int64, Int64}}) =\n",
    "  begin\n",
    "    nRows = 26\n",
    "    nCols = 26\n",
    "    # board = Matrix{Char}('_', nRows, nCols)\n",
    "    board = fill('_', (nRows, nCols))    \n",
    "\n",
    "    for i in length(knots):-1:1\n",
    "      (x, y) = knots[i]\n",
    "      board[div(nRows,2)-y, div(nCols,2)+x+1] = '0' + i - 1 \n",
    "    end\n",
    "\n",
    "    stringFormVec=Vector{String}()\n",
    "    for i in 1:nRows\n",
    "      strToCreate = \"\"\n",
    "      for j in 1:nCols\n",
    "        strToCreate *= board[i,j]\n",
    "      end\n",
    "      push!(stringFormVec, strToCreate)\n",
    "    end\n",
    "\n",
    "    stringForm = map(string, board)\n",
    "    display(stringFormVec)\n",
    "  end"
   ]
  },
  {
   "cell_type": "code",
   "execution_count": 6,
   "metadata": {},
   "outputs": [
    {
     "data": {
      "text/plain": [
       "parseInputLine (generic function with 1 method)"
      ]
     },
     "execution_count": 6,
     "metadata": {},
     "output_type": "execute_result"
    }
   ],
   "source": [
    "offsetFromDirection = Dict('U' => (0, 1), 'D' => (0,-1), 'L' => (-1,0), 'R' => (1,0))\n",
    "\n",
    "parseInputLine(line::String) =\n",
    "  begin\n",
    "    splitted = split(line)\n",
    "    direction = splitted[1] |> first\n",
    "    (dx, dy) = offsetFromDirection[direction]\n",
    "    count = parse(Int64, splitted[2])\n",
    "    return (count*dx, count*dy)\n",
    "  end"
   ]
  },
  {
   "cell_type": "code",
   "execution_count": 44,
   "metadata": {},
   "outputs": [],
   "source": [
    "moves = Vector{Tuple{Int64, Int64}}()\n",
    "for move in eachline(\"test2.txt\")\n",
    "  @pipe move |> parseInputLine |> push!(moves, _)\n",
    "end"
   ]
  },
  {
   "cell_type": "code",
   "execution_count": 22,
   "metadata": {},
   "outputs": [
    {
     "data": {
      "text/plain": [
       "6332"
      ]
     },
     "execution_count": 22,
     "metadata": {},
     "output_type": "execute_result"
    }
   ],
   "source": [
    "# task 1\n",
    "reachedPositions = Set{Tuple{Int64, Int64}}([(0,0)])\n",
    "tPos = hPos = (0,0)\n",
    "\n",
    "for move in moves\n",
    "  # willMoveTowards = @pipe move |> map(sign, _) |> indexin(x-> x == 0, _) |> 3 - _\n",
    "  (dx, dy) = normalize(move)\n",
    "  for _ in 1:norm(move)\n",
    "    newHPos = hPos .+ (dx, dy)\n",
    "    if norm(tPos .- newHPos) > 1\n",
    "      tPos = hPos\n",
    "      push!(reachedPositions, tPos)\n",
    "    end\n",
    "    hPos = newHPos\n",
    "  end\n",
    "end\n",
    "\n",
    "length(reachedPositions)"
   ]
  },
  {
   "cell_type": "code",
   "execution_count": 78,
   "metadata": {},
   "outputs": [
    {
     "data": {
      "text/plain": [
       "26-element Vector{String}:\n",
       " \"__________________________\"\n",
       " \"__________________________\"\n",
       " \"__________________________\"\n",
       " \"__________________________\"\n",
       " \"__________________________\"\n",
       " \"__________________________\"\n",
       " \"__________________________\"\n",
       " \"__________________________\"\n",
       " \"__________________________\"\n",
       " \"__________________________\"\n",
       " \"__________________________\"\n",
       " \"__________________________\"\n",
       " \"_____________0____________\"\n",
       " \"__________________________\"\n",
       " \"__________________________\"\n",
       " \"__________________________\"\n",
       " \"__________________________\"\n",
       " \"__________________________\"\n",
       " \"__________________________\"\n",
       " \"__________________________\"\n",
       " \"__________________________\"\n",
       " \"__________________________\"\n",
       " \"__________________________\"\n",
       " \"__________________________\"\n",
       " \"__________________________\"\n",
       " \"__________________________\""
      ]
     },
     "metadata": {},
     "output_type": "display_data"
    },
    {
     "data": {
      "text/plain": [
       "26-element Vector{String}:\n",
       " \"__________________________\"\n",
       " \"__________________________\"\n",
       " \"__________________________\"\n",
       " \"__________________________\"\n",
       " \"__________________________\"\n",
       " \"__________________________\"\n",
       " \"__________________________\"\n",
       " \"__________________________\"\n",
       " \"__________________________\"\n",
       " \"__________________________\"\n",
       " \"__________________________\"\n",
       " \"__________________________\"\n",
       " \"_____________543210_______\"\n",
       " \"__________________________\"\n",
       " \"__________________________\"\n",
       " \"__________________________\"\n",
       " \"__________________________\"\n",
       " \"__________________________\"\n",
       " \"__________________________\"\n",
       " \"__________________________\"\n",
       " \"__________________________\"\n",
       " \"__________________________\"\n",
       " \"__________________________\"\n",
       " \"__________________________\"\n",
       " \"__________________________\"\n",
       " \"__________________________\""
      ]
     },
     "metadata": {},
     "output_type": "display_data"
    },
    {
     "data": {
      "text/plain": [
       "26-element Vector{String}:\n",
       " \"__________________________\"\n",
       " \"__________________________\"\n",
       " \"__________________________\"\n",
       " \"__________________________\"\n",
       " \"__________________0_______\"\n",
       " \"__________________1_______\"\n",
       " \"__________________2_______\"\n",
       " \"__________________3_______\"\n",
       " \"_________________54_______\"\n",
       " \"________________6_________\"\n",
       " \"_______________7__________\"\n",
       " \"______________8___________\"\n",
       " \"_____________9____________\"\n",
       " \"__________________________\"\n",
       " \"__________________________\"\n",
       " \"__________________________\"\n",
       " \"__________________________\"\n",
       " \"__________________________\"\n",
       " \"__________________________\"\n",
       " \"__________________________\"\n",
       " \"__________________________\"\n",
       " \"__________________________\"\n",
       " \"__________________________\"\n",
       " \"__________________________\"\n",
       " \"__________________________\"\n",
       " \"__________________________\""
      ]
     },
     "metadata": {},
     "output_type": "display_data"
    },
    {
     "data": {
      "text/plain": [
       "26-element Vector{String}:\n",
       " \"__________________________\"\n",
       " \"__________________________\"\n",
       " \"__________________________\"\n",
       " \"__________________________\"\n",
       " \"__________01234___________\"\n",
       " \"______________5___________\"\n",
       " \"_______________6__________\"\n",
       " \"_______________7__________\"\n",
       " \"______________98__________\"\n",
       " \"__________________________\"\n",
       " \"__________________________\"\n",
       " \"__________________________\"\n",
       " \"__________________________\"\n",
       " \"__________________________\"\n",
       " \"__________________________\"\n",
       " \"__________________________\"\n",
       " \"__________________________\"\n",
       " \"__________________________\"\n",
       " \"__________________________\"\n",
       " \"__________________________\"\n",
       " \"__________________________\"\n",
       " \"__________________________\"\n",
       " \"__________________________\"\n",
       " \"__________________________\"\n",
       " \"__________________________\"\n",
       " \"__________________________\""
      ]
     },
     "metadata": {},
     "output_type": "display_data"
    },
    {
     "data": {
      "text/plain": [
       "26-element Vector{String}:\n",
       " \"__________________________\"\n",
       " \"__________________________\"\n",
       " \"__________________________\"\n",
       " \"__________________________\"\n",
       " \"__________________________\"\n",
       " \"___________2345___________\"\n",
       " \"__________1____6__________\"\n",
       " \"__________0____7__________\"\n",
       " \"______________98__________\"\n",
       " \"__________________________\"\n",
       " \"__________________________\"\n",
       " \"__________________________\"\n",
       " \"__________________________\"\n",
       " \"__________________________\"\n",
       " \"__________________________\"\n",
       " \"__________________________\"\n",
       " \"__________________________\"\n",
       " \"__________________________\"\n",
       " \"__________________________\"\n",
       " \"__________________________\"\n",
       " \"__________________________\"\n",
       " \"__________________________\"\n",
       " \"__________________________\"\n",
       " \"__________________________\"\n",
       " \"__________________________\"\n",
       " \"__________________________\""
      ]
     },
     "metadata": {},
     "output_type": "display_data"
    },
    {
     "ename": "LoadError",
     "evalue": "BoundsError: attempt to access 26×26 Matrix{Char} at index [8, 27]",
     "output_type": "error",
     "traceback": [
      "BoundsError: attempt to access 26×26 Matrix{Char} at index [8, 27]",
      "",
      "Stacktrace:",
      " [1] setindex!",
      "   @ ./array.jl:968 [inlined]",
      " [2] displayKnots(knots::Vector{Tuple{Int64, Int64}})",
      "   @ Main ./In[77]:31",
      " [3] top-level scope",
      "   @ ./In[78]:12",
      " [4] eval",
      "   @ ./boot.jl:368 [inlined]",
      " [5] include_string(mapexpr::typeof(REPL.softscope), mod::Module, code::String, filename::String)",
      "   @ Base ./loading.jl:1428"
     ]
    }
   ],
   "source": [
    "# task 2\n",
    "reachedPositions = Set{Tuple{Int64, Int64}}([(0,0)])\n",
    "knotsCount = 10\n",
    "knotPositions = Vector{Tuple{Int64, Int64}}()\n",
    "newKnotPositions = Vector{Tuple{Int64, Int64}}()\n",
    "for _ in 1:knotsCount\n",
    "  push!(knotPositions, (0,0))\n",
    "  push!(newKnotPositions, (0,0))\n",
    "end\n",
    "\n",
    "for move in moves\n",
    "  displayKnots(knotPositions)\n",
    "  (dx, dy) = normalize(move)\n",
    "  for _ in 1:normInf(move)\n",
    "    # displayKnots(knotPositions)\n",
    "    newKnotPositions[1] = knotPositions[1] .+ (dx, dy)\n",
    "    \n",
    "    for i in 1:knotsCount-1\n",
    "      if normInf(knotPositions[i+1] .- newKnotPositions[i]) > 1\n",
    "        newKnotPositions[i+1] = knotPositions[i]\n",
    "        # println(i, \"-\", newKnotPositions[i+1])\n",
    "        if norm1(knotPositions[i+1] .- newKnotPositions[i]) > 2\n",
    "          newKnotPositions[i+1] = newKnotPositions[i+1] .+ (dx, dy)\n",
    "          # println(i, \"!!!-\", newKnotPositions[i+1])\n",
    "        end\n",
    "        if newKnotPositions[i+1] == newKnotPositions[i] || normInf(newKnotPositions[i+1] .- knotPositions[i+1]) > 1\n",
    "          # newKnotPositions[i+1] = newKnotPositions[i+1] .- (dx, dy)\n",
    "          newKnotPositions[i+1] = knotPositions[i]\n",
    "        end\n",
    "      else newKnotPositions[i+1] = knotPositions[i+1]\n",
    "      end\n",
    "    end\n",
    "\n",
    "    knotPositions = copy(newKnotPositions)\n",
    "    push!(reachedPositions, knotPositions[knotsCount])\n",
    "  end\n",
    "end\n",
    "\n",
    "reachedPositions"
   ]
  },
  {
   "cell_type": "code",
   "execution_count": 15,
   "metadata": {},
   "outputs": [
    {
     "data": {
      "text/plain": [
       "false"
      ]
     },
     "execution_count": 15,
     "metadata": {},
     "output_type": "execute_result"
    }
   ],
   "source": [
    "findfirst(x-> x == 1, [2,4]) == 1"
   ]
  },
  {
   "cell_type": "code",
   "execution_count": 21,
   "metadata": {},
   "outputs": [
    {
     "data": {
      "text/plain": [
       "Set{Tuple{Int64, Int64}} with 6332 elements:\n",
       "  (194, -18)\n",
       "  (97, 68)\n",
       "  (345, -50)\n",
       "  (125, 10)\n",
       "  (118, 24)\n",
       "  (251, 21)\n",
       "  (266, 14)\n",
       "  (60, -78)\n",
       "  (363, -65)\n",
       "  (93, -62)\n",
       "  (185, -25)\n",
       "  (353, 18)\n",
       "  (58, -61)\n",
       "  (131, -8)\n",
       "  (196, -20)\n",
       "  (72, -87)\n",
       "  (288, 9)\n",
       "  (324, -20)\n",
       "  (18, -6)\n",
       "  (329, -7)\n",
       "  (88, 80)\n",
       "  (117, -74)\n",
       "  (206, 0)\n",
       "  (183, -25)\n",
       "  (161, -41)\n",
       "  ⋮ "
      ]
     },
     "execution_count": 21,
     "metadata": {},
     "output_type": "execute_result"
    }
   ],
   "source": [
    "reachedPositions"
   ]
  },
  {
   "cell_type": "code",
   "execution_count": 18,
   "metadata": {},
   "outputs": [
    {
     "data": {
      "text/plain": [
       "'9': ASCII/Unicode U+0039 (category Nd: Number, decimal digit)"
      ]
     },
     "metadata": {},
     "output_type": "display_data"
    },
    {
     "data": {
      "text/plain": [
       "'8': ASCII/Unicode U+0038 (category Nd: Number, decimal digit)"
      ]
     },
     "metadata": {},
     "output_type": "display_data"
    },
    {
     "data": {
      "text/plain": [
       "'7': ASCII/Unicode U+0037 (category Nd: Number, decimal digit)"
      ]
     },
     "metadata": {},
     "output_type": "display_data"
    },
    {
     "data": {
      "text/plain": [
       "'6': ASCII/Unicode U+0036 (category Nd: Number, decimal digit)"
      ]
     },
     "metadata": {},
     "output_type": "display_data"
    },
    {
     "data": {
      "text/plain": [
       "'5': ASCII/Unicode U+0035 (category Nd: Number, decimal digit)"
      ]
     },
     "metadata": {},
     "output_type": "display_data"
    },
    {
     "data": {
      "text/plain": [
       "'4': ASCII/Unicode U+0034 (category Nd: Number, decimal digit)"
      ]
     },
     "metadata": {},
     "output_type": "display_data"
    },
    {
     "data": {
      "text/plain": [
       "'3': ASCII/Unicode U+0033 (category Nd: Number, decimal digit)"
      ]
     },
     "metadata": {},
     "output_type": "display_data"
    },
    {
     "data": {
      "text/plain": [
       "'2': ASCII/Unicode U+0032 (category Nd: Number, decimal digit)"
      ]
     },
     "metadata": {},
     "output_type": "display_data"
    },
    {
     "data": {
      "text/plain": [
       "'1': ASCII/Unicode U+0031 (category Nd: Number, decimal digit)"
      ]
     },
     "metadata": {},
     "output_type": "display_data"
    },
    {
     "data": {
      "text/plain": [
       "'0': ASCII/Unicode U+0030 (category Nd: Number, decimal digit)"
      ]
     },
     "metadata": {},
     "output_type": "display_data"
    }
   ],
   "source": [
    "for i in 10:-1:1\n",
    "  display('0' + i - 1) \n",
    "end"
   ]
  },
  {
   "cell_type": "code",
   "execution_count": 20,
   "metadata": {},
   "outputs": [
    {
     "data": {
      "text/plain": [
       "2"
      ]
     },
     "execution_count": 20,
     "metadata": {},
     "output_type": "execute_result"
    }
   ],
   "source": [
    "norm1((0,0) .- (2,0))"
   ]
  },
  {
   "cell_type": "code",
   "execution_count": 57,
   "metadata": {},
   "outputs": [
    {
     "data": {
      "text/plain": [
       "\"a\""
      ]
     },
     "execution_count": 57,
     "metadata": {},
     "output_type": "execute_result"
    }
   ],
   "source": [
    "string('a')"
   ]
  },
  {
   "cell_type": "code",
   "execution_count": 74,
   "metadata": {},
   "outputs": [
    {
     "data": {
      "text/plain": [
       "\"asdf\""
      ]
     },
     "execution_count": 74,
     "metadata": {},
     "output_type": "execute_result"
    }
   ],
   "source": [
    "\"asd\" * 'f'"
   ]
  },
  {
   "cell_type": "code",
   "execution_count": null,
   "metadata": {},
   "outputs": [],
   "source": []
  }
 ],
 "metadata": {
  "kernelspec": {
   "display_name": "Julia 1.8.3",
   "language": "julia",
   "name": "julia-1.8"
  },
  "language_info": {
   "file_extension": ".jl",
   "mimetype": "application/julia",
   "name": "julia",
   "version": "1.8.3"
  },
  "orig_nbformat": 4
 },
 "nbformat": 4,
 "nbformat_minor": 2
}
