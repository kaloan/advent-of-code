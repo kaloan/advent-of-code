{
 "cells": [
  {
   "cell_type": "code",
   "execution_count": null,
   "metadata": {},
   "outputs": [],
   "source": [
    "using Pipe"
   ]
  },
  {
   "cell_type": "code",
   "execution_count": null,
   "metadata": {},
   "outputs": [],
   "source": [
    "normInf(vec::Tuple{Int64,Int64}) = map(abs, vec) |> Base.splat(max)\n",
    "\n",
    "normalizeInf(vec::Tuple{Int64,Int64}) = map(x -> sign(x) * min(abs(x), 1), vec)\n",
    "\n",
    "displayKnots(knots::Vector{Tuple{Int64,Int64}}) =\n",
    "  begin\n",
    "    nRows = 28\n",
    "    nCols = 28\n",
    "    board = fill('_', (nRows, nCols))\n",
    "\n",
    "    for i in length(knots):-1:1\n",
    "      (x, y) = knots[i]\n",
    "      board[div(nRows, 2)-y, div(nCols, 2)+x+1] = '0' + i - 1\n",
    "    end\n",
    "\n",
    "    stringFormVec = Vector{String}()\n",
    "    for i in 1:nRows\n",
    "      strToCreate = \"\"\n",
    "      for j in 1:nCols\n",
    "        strToCreate *= board[i, j]\n",
    "      end\n",
    "      push!(stringFormVec, strToCreate)\n",
    "    end\n",
    "\n",
    "    stringForm = map(string, board)\n",
    "    display(stringFormVec)\n",
    "  end"
   ]
  },
  {
   "cell_type": "code",
   "execution_count": null,
   "metadata": {},
   "outputs": [],
   "source": [
    "offsetFromDirection = Dict('U' => (0, 1), 'D' => (0, -1), 'L' => (-1, 0), 'R' => (1, 0))\n",
    "\n",
    "parseInputLine(line::String) =\n",
    "  begin\n",
    "    splitted = split(line)\n",
    "    direction = splitted[1] |> first\n",
    "    (dx, dy) = offsetFromDirection[direction]\n",
    "    count = parse(Int64, splitted[2])\n",
    "    return (count * dx, count * dy)\n",
    "  end"
   ]
  },
  {
   "cell_type": "code",
   "execution_count": null,
   "metadata": {},
   "outputs": [],
   "source": [
    "moves = Vector{Tuple{Int64,Int64}}()\n",
    "for move in eachline(\"input.txt\")\n",
    "  @pipe move |> parseInputLine |> push!(moves, _)\n",
    "end"
   ]
  },
  {
   "cell_type": "code",
   "execution_count": null,
   "metadata": {},
   "outputs": [],
   "source": [
    "# task both\n",
    "task2 = true\n",
    "reachedPositions = Set{Tuple{Int64,Int64}}([(0, 0)])\n",
    "knotsCount = task2 ? 10 : 2\n",
    "knotPositions = Vector{Tuple{Int64,Int64}}()\n",
    "newKnotPositions = Vector{Tuple{Int64,Int64}}()\n",
    "for _ in 1:knotsCount\n",
    "  push!(knotPositions, (0, 0))\n",
    "  push!(newKnotPositions, (0, 0))\n",
    "end\n",
    "\n",
    "for move in moves\n",
    "  (dx, dy) = normalizeInf(move)\n",
    "  for _ in 1:normInf(move)\n",
    "    newKnotPositions[1] = knotPositions[1] .+ (dx, dy)\n",
    "\n",
    "    for i in 1:knotsCount-1\n",
    "      if normInf(knotPositions[i+1] .- newKnotPositions[i]) > 1\n",
    "        newKnotPositions[i+1] = knotPositions[i+1] .+ normalizeInf(newKnotPositions[i] .- knotPositions[i+1])\n",
    "      else\n",
    "        newKnotPositions[i+1] = knotPositions[i+1]\n",
    "      end\n",
    "    end\n",
    "\n",
    "    knotPositions = copy(newKnotPositions)\n",
    "    push!(reachedPositions, knotPositions[knotsCount])\n",
    "  end\n",
    "end\n",
    "\n",
    "reachedPositions |> length"
   ]
  },
  {
   "cell_type": "code",
   "execution_count": null,
   "metadata": {},
   "outputs": [],
   "source": []
  }
 ],
 "metadata": {
  "kernelspec": {
   "display_name": "Julia 1.8.3",
   "language": "julia",
   "name": "julia-1.8"
  },
  "language_info": {
   "file_extension": ".jl",
   "mimetype": "application/julia",
   "name": "julia",
   "version": "1.8.3"
  },
  "orig_nbformat": 4
 },
 "nbformat": 4,
 "nbformat_minor": 2
}
