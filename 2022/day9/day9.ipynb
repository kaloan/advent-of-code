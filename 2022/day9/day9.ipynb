{
 "cells": [
  {
   "cell_type": "code",
   "execution_count": 1,
   "metadata": {},
   "outputs": [],
   "source": [
    "using Pipe"
   ]
  },
  {
   "cell_type": "code",
   "execution_count": 14,
   "metadata": {},
   "outputs": [
    {
     "data": {
      "text/plain": [
       "displayKnots (generic function with 1 method)"
      ]
     },
     "execution_count": 14,
     "metadata": {},
     "output_type": "execute_result"
    }
   ],
   "source": [
    "normInf(vec::Tuple{Int64, Int64}) =\n",
    "  begin\n",
    "    # return map((x->x*x), vec) |> sum |> sqrt\n",
    "    # return map(abs, vec) |> sum\n",
    "    return map(abs, vec) |> Base.splat(max)\n",
    "  end\n",
    "\n",
    "norm1(vec::Tuple{Int64, Int64}) =\n",
    "  begin\n",
    "    return map(abs, vec) |> sum\n",
    "  end\n",
    "\n",
    "normalize(vec::Tuple{Int64, Int64}) =\n",
    "  begin\n",
    "    size = normInf(vec)\n",
    "    if (size == 0)\n",
    "      return vec\n",
    "    end\n",
    "    return map(x -> div(x, size), vec)\n",
    "  end\n",
    "\n",
    "normalizeInf(vec::Tuple{Int64, Int64}) =\n",
    "begin\n",
    "  return map(x -> sign(x) * min(abs(x), 1), vec)\n",
    "end\n",
    "\n",
    "\n",
    "displayKnots(knots::Vector{Tuple{Int64, Int64}}) =\n",
    "  begin\n",
    "    nRows = 34\n",
    "    nCols = 34\n",
    "    # board = Matrix{Char}('_', nRows, nCols)\n",
    "    board = fill('_', (nRows, nCols))    \n",
    "\n",
    "    for i in length(knots):-1:1\n",
    "      (x, y) = knots[i]\n",
    "      board[div(nRows,2)-y, div(nCols,2)+x+1] = '0' + i - 1 \n",
    "    end\n",
    "\n",
    "    stringFormVec=Vector{String}()\n",
    "    for i in 1:nRows\n",
    "      strToCreate = \"\"\n",
    "      for j in 1:nCols\n",
    "        strToCreate *= board[i,j]\n",
    "      end\n",
    "      push!(stringFormVec, strToCreate)\n",
    "    end\n",
    "\n",
    "    stringForm = map(string, board)\n",
    "    display(stringFormVec)\n",
    "  end"
   ]
  },
  {
   "cell_type": "code",
   "execution_count": 3,
   "metadata": {},
   "outputs": [
    {
     "data": {
      "text/plain": [
       "parseInputLine (generic function with 1 method)"
      ]
     },
     "execution_count": 3,
     "metadata": {},
     "output_type": "execute_result"
    }
   ],
   "source": [
    "offsetFromDirection = Dict('U' => (0, 1), 'D' => (0,-1), 'L' => (-1,0), 'R' => (1,0))\n",
    "\n",
    "parseInputLine(line::String) =\n",
    "  begin\n",
    "    splitted = split(line)\n",
    "    direction = splitted[1] |> first\n",
    "    (dx, dy) = offsetFromDirection[direction]\n",
    "    count = parse(Int64, splitted[2])\n",
    "    return (count*dx, count*dy)\n",
    "  end"
   ]
  },
  {
   "cell_type": "code",
   "execution_count": 19,
   "metadata": {},
   "outputs": [],
   "source": [
    "moves = Vector{Tuple{Int64, Int64}}()\n",
    "for move in eachline(\"input.txt\")\n",
    "  @pipe move |> parseInputLine |> push!(moves, _)\n",
    "end"
   ]
  },
  {
   "cell_type": "code",
   "execution_count": 7,
   "metadata": {},
   "outputs": [
    {
     "data": {
      "text/plain": [
       "88"
      ]
     },
     "execution_count": 7,
     "metadata": {},
     "output_type": "execute_result"
    }
   ],
   "source": [
    "# task 1\n",
    "reachedPositions = Set{Tuple{Int64, Int64}}([(0,0)])\n",
    "tPos = hPos = (0,0)\n",
    "\n",
    "for move in moves\n",
    "  # willMoveTowards = @pipe move |> map(sign, _) |> indexin(x-> x == 0, _) |> 3 - _\n",
    "  (dx, dy) = normalize(move)\n",
    "  for _ in 1:normInf(move)\n",
    "    newHPos = hPos .+ (dx, dy)\n",
    "    if normInf(tPos .- newHPos) > 1\n",
    "      tPos = hPos\n",
    "      push!(reachedPositions, tPos)\n",
    "    end\n",
    "    hPos = newHPos\n",
    "  end\n",
    "end\n",
    "\n",
    "length(reachedPositions)"
   ]
  },
  {
   "cell_type": "code",
   "execution_count": 26,
   "metadata": {},
   "outputs": [
    {
     "data": {
      "text/plain": [
       "26-element Vector{String}:\n",
       " \"__________________________\"\n",
       " \"__________________________\"\n",
       " \"__________________________\"\n",
       " \"__________________________\"\n",
       " \"__________________0_______\"\n",
       " \"__________________________\"\n",
       " \"__________________________\"\n",
       " \"__________________________\"\n",
       " \"__________________________\"\n",
       " \"__________________________\"\n",
       " \"__________________________\"\n",
       " \"__________________________\"\n",
       " \"_____________8765_________\"\n",
       " \"_________________4________\"\n",
       " \"__________________________\"\n",
       " \"_________________3________\"\n",
       " \"__________________________\"\n",
       " \"_________________2________\"\n",
       " \"__________________________\"\n",
       " \"_________________1________\"\n",
       " \"__________________________\"\n",
       " \"__________________________\"\n",
       " \"__________________________\"\n",
       " \"__________________________\"\n",
       " \"__________________________\"\n",
       " \"__________________________\""
      ]
     },
     "metadata": {},
     "output_type": "display_data"
    },
    {
     "name": "stdout",
     "output_type": "stream",
     "text": [
      "1-(5, -7)\n",
      "2-(5, -5)\n",
      "3-(5, -3)\n",
      "4-(5, -1)\n",
      "5-(3, -1)\n",
      "6-(2, 0)\n",
      "7-(1, 0)\n",
      "8-(0, 0)\n",
      "9-(0, 0)\n"
     ]
    },
    {
     "data": {
      "text/plain": [
       "26-element Vector{String}:\n",
       " \"__________________________\"\n",
       " \"__________________________\"\n",
       " \"__________________________\"\n",
       " \"__________________________\"\n",
       " \"_________________0________\"\n",
       " \"__________________________\"\n",
       " \"__________________________\"\n",
       " \"__________________________\"\n",
       " \"__________________________\"\n",
       " \"__________________________\"\n",
       " \"__________________________\"\n",
       " \"__________________________\"\n",
       " \"_____________876__________\"\n",
       " \"________________5_4_______\"\n",
       " \"__________________________\"\n",
       " \"__________________3_______\"\n",
       " \"__________________________\"\n",
       " \"__________________2_______\"\n",
       " \"__________________________\"\n",
       " \"__________________1_______\"\n",
       " \"__________________________\"\n",
       " \"__________________________\"\n",
       " \"__________________________\"\n",
       " \"__________________________\"\n",
       " \"__________________________\"\n",
       " \"__________________________\""
      ]
     },
     "metadata": {},
     "output_type": "display_data"
    },
    {
     "name": "stdout",
     "output_type": "stream",
     "text": [
      "1-(6, -7)\n",
      "2-(6, -5)\n",
      "3-(6, -3)\n",
      "4-(6, -1)\n",
      "5-(4, -1)\n",
      "6-(2, -1)\n",
      "7-(1, 0)\n",
      "8-(0, 0)\n",
      "9-(0, 0)\n"
     ]
    },
    {
     "data": {
      "text/plain": [
       "26-element Vector{String}:\n",
       " \"__________________________\"\n",
       " \"__________________________\"\n",
       " \"__________________________\"\n",
       " \"__________________________\"\n",
       " \"________________0_________\"\n",
       " \"__________________________\"\n",
       " \"__________________________\"\n",
       " \"__________________________\"\n",
       " \"__________________________\"\n",
       " \"__________________________\"\n",
       " \"__________________________\"\n",
       " \"__________________________\"\n",
       " \"_____________87___________\"\n",
       " \"_______________6_5_4______\"\n",
       " \"__________________________\"\n",
       " \"___________________3______\"\n",
       " \"__________________________\"\n",
       " \"___________________2______\"\n",
       " \"__________________________\"\n",
       " \"___________________1______\"\n",
       " \"__________________________\"\n",
       " \"__________________________\"\n",
       " \"__________________________\"\n",
       " \"__________________________\"\n",
       " \"__________________________\"\n",
       " \"__________________________\""
      ]
     },
     "metadata": {},
     "output_type": "display_data"
    },
    {
     "name": "stdout",
     "output_type": "stream",
     "text": [
      "1-(7, -7)\n",
      "2-(7, -5)\n",
      "3-(7, -3)\n",
      "4-(7, -1)\n",
      "5-(5, -1)\n",
      "6-(3, -1)\n",
      "7-(1, -1)\n",
      "8-(0, 0)\n",
      "9-(0, 0)\n"
     ]
    },
    {
     "data": {
      "text/plain": [
       "26-element Vector{String}:\n",
       " \"__________________________\"\n",
       " \"__________________________\"\n",
       " \"__________________________\"\n",
       " \"__________________________\"\n",
       " \"_______________0__________\"\n",
       " \"__________________________\"\n",
       " \"__________________________\"\n",
       " \"__________________________\"\n",
       " \"__________________________\"\n",
       " \"__________________________\"\n",
       " \"__________________________\"\n",
       " \"__________________________\"\n",
       " \"_____________8____________\"\n",
       " \"______________7_6_5_4_____\"\n",
       " \"__________________________\"\n",
       " \"____________________3_____\"\n",
       " \"__________________________\"\n",
       " \"____________________2_____\"\n",
       " \"__________________________\"\n",
       " \"____________________1_____\"\n",
       " \"__________________________\"\n",
       " \"__________________________\"\n",
       " \"__________________________\"\n",
       " \"__________________________\"\n",
       " \"__________________________\"\n",
       " \"__________________________\""
      ]
     },
     "metadata": {},
     "output_type": "display_data"
    },
    {
     "name": "stdout",
     "output_type": "stream",
     "text": [
      "1-(8, -7)\n",
      "2-(8, -5)\n",
      "3-(8, -3)\n",
      "4-(8, -1)\n",
      "5-(6, -1)\n",
      "6-(4, -1)\n",
      "7-(2, -1)\n",
      "8-(0, -1)\n",
      "9-(0, 0)\n"
     ]
    },
    {
     "data": {
      "text/plain": [
       "26-element Vector{String}:\n",
       " \"__________________________\"\n",
       " \"__________________________\"\n",
       " \"__________________________\"\n",
       " \"__________________________\"\n",
       " \"______________0___________\"\n",
       " \"__________________________\"\n",
       " \"__________________________\"\n",
       " \"__________________________\"\n",
       " \"__________________________\"\n",
       " \"__________________________\"\n",
       " \"__________________________\"\n",
       " \"__________________________\"\n",
       " \"_____________9____________\"\n",
       " \"_____________8_7_6_5_4____\"\n",
       " \"__________________________\"\n",
       " \"_____________________3____\"\n",
       " \"__________________________\"\n",
       " \"_____________________2____\"\n",
       " \"__________________________\"\n",
       " \"_____________________1____\"\n",
       " \"__________________________\"\n",
       " \"__________________________\"\n",
       " \"__________________________\"\n",
       " \"__________________________\"\n",
       " \"__________________________\"\n",
       " \"__________________________\""
      ]
     },
     "metadata": {},
     "output_type": "display_data"
    },
    {
     "name": "stdout",
     "output_type": "stream",
     "text": [
      "1-(9, -7)\n",
      "2-(9, -5)\n",
      "3-(9, -3)\n",
      "4-(9, -1)\n",
      "5-(7, -1)\n",
      "6-(5, -1)\n",
      "7-(3, -1)\n",
      "8-(1, -1)\n",
      "9-(0, 0)\n"
     ]
    },
    {
     "data": {
      "text/plain": [
       "26-element Vector{String}:\n",
       " \"__________________________\"\n",
       " \"__________________________\"\n",
       " \"__________________________\"\n",
       " \"__________________________\"\n",
       " \"_____________0____________\"\n",
       " \"__________________________\"\n",
       " \"__________________________\"\n",
       " \"__________________________\"\n",
       " \"__________________________\"\n",
       " \"__________________________\"\n",
       " \"__________________________\"\n",
       " \"__________________________\"\n",
       " \"_____________9____________\"\n",
       " \"______________8_7_6_5_4___\"\n",
       " \"__________________________\"\n",
       " \"______________________3___\"\n",
       " \"__________________________\"\n",
       " \"______________________2___\"\n",
       " \"__________________________\"\n",
       " \"______________________1___\"\n",
       " \"__________________________\"\n",
       " \"__________________________\"\n",
       " \"__________________________\"\n",
       " \"__________________________\"\n",
       " \"__________________________\"\n",
       " \"__________________________\""
      ]
     },
     "metadata": {},
     "output_type": "display_data"
    },
    {
     "name": "stdout",
     "output_type": "stream",
     "text": [
      "1-(10, -7)\n",
      "2-(10, -5)\n",
      "3-(10, -3)\n",
      "4-(10, -1)\n",
      "5-(8, -1)\n",
      "6-(6, -1)\n",
      "7-(4, -1)\n",
      "8-(2, -1)\n",
      "9-(0, -1)\n"
     ]
    },
    {
     "data": {
      "text/plain": [
       "26-element Vector{String}:\n",
       " \"__________________________\"\n",
       " \"__________________________\"\n",
       " \"__________________________\"\n",
       " \"__________________________\"\n",
       " \"____________0_____________\"\n",
       " \"__________________________\"\n",
       " \"__________________________\"\n",
       " \"__________________________\"\n",
       " \"__________________________\"\n",
       " \"__________________________\"\n",
       " \"__________________________\"\n",
       " \"__________________________\"\n",
       " \"__________________________\"\n",
       " \"_____________9_8_7_6_5_4__\"\n",
       " \"__________________________\"\n",
       " \"_______________________3__\"\n",
       " \"__________________________\"\n",
       " \"_______________________2__\"\n",
       " \"__________________________\"\n",
       " \"_______________________1__\"\n",
       " \"__________________________\"\n",
       " \"__________________________\"\n",
       " \"__________________________\"\n",
       " \"__________________________\"\n",
       " \"__________________________\"\n",
       " \"__________________________\""
      ]
     },
     "metadata": {},
     "output_type": "display_data"
    },
    {
     "name": "stdout",
     "output_type": "stream",
     "text": [
      "1-(11, -7)\n",
      "2-(11, -5)\n",
      "3-(11, -3)\n",
      "4-(11, -1)\n",
      "5-(9, -1)\n",
      "6-(7, -1)\n",
      "7-(5, -1)\n",
      "8-(3, -1)\n",
      "9-(1, -1)\n"
     ]
    },
    {
     "data": {
      "text/plain": [
       "26-element Vector{String}:\n",
       " \"__________________________\"\n",
       " \"__________________________\"\n",
       " \"__________________________\"\n",
       " \"__________________________\"\n",
       " \"___________0______________\"\n",
       " \"__________________________\"\n",
       " \"__________________________\"\n",
       " \"__________________________\"\n",
       " \"__________________________\"\n",
       " \"__________________________\"\n",
       " \"__________________________\"\n",
       " \"__________________________\"\n",
       " \"__________________________\"\n",
       " \"______________9_8_7_6_5_4_\"\n",
       " \"__________________________\"\n",
       " \"________________________3_\"\n",
       " \"__________________________\"\n",
       " \"________________________2_\"\n",
       " \"__________________________\"\n",
       " \"________________________1_\"\n",
       " \"__________________________\"\n",
       " \"__________________________\"\n",
       " \"__________________________\"\n",
       " \"__________________________\"\n",
       " \"__________________________\"\n",
       " \"__________________________\""
      ]
     },
     "metadata": {},
     "output_type": "display_data"
    },
    {
     "name": "stdout",
     "output_type": "stream",
     "text": [
      "1-(12, -7)\n",
      "2-(12, -5)\n",
      "3-(12, -3)\n",
      "4-(12, -1)\n",
      "5-(10, -1)\n",
      "6-(8, -1)\n",
      "7-(6, -1)\n",
      "8-(4, -1)\n",
      "9-(2, -1)\n"
     ]
    },
    {
     "data": {
      "text/plain": [
       "Set{Tuple{Int64, Int64}} with 32 elements:\n",
       "  (23, -6)\n",
       "  (23, -3)\n",
       "  (4, -1)\n",
       "  (13, -1)\n",
       "  (15, -1)\n",
       "  (2, -1)\n",
       "  (10, -1)\n",
       "  (18, -1)\n",
       "  (21, -1)\n",
       "  (23, -2)\n",
       "  (5, -1)\n",
       "  (16, -1)\n",
       "  (20, -1)\n",
       "  (12, -1)\n",
       "  (8, -1)\n",
       "  (17, -1)\n",
       "  (1, -1)\n",
       "  (19, -1)\n",
       "  (0, -1)\n",
       "  (22, -1)\n",
       "  (6, -1)\n",
       "  (23, -1)\n",
       "  (-1, -1)\n",
       "  (11, -1)\n",
       "  (23, -5)\n",
       "  ⋮ "
      ]
     },
     "execution_count": 26,
     "metadata": {},
     "output_type": "execute_result"
    }
   ],
   "source": [
    "# task 2\n",
    "reachedPositions = Set{Tuple{Int64, Int64}}([(0,0)])\n",
    "knotsCount = 10\n",
    "knotPositions = Vector{Tuple{Int64, Int64}}()\n",
    "newKnotPositions = Vector{Tuple{Int64, Int64}}()\n",
    "for _ in 1:knotsCount\n",
    "  push!(knotPositions, (0,0))\n",
    "  push!(newKnotPositions, (0,0))\n",
    "end\n",
    "\n",
    "for move in moves\n",
    "  # display(move)\n",
    "  # displayKnots(knotPositions)\n",
    "  (dx, dy) = normalize(move)\n",
    "  for _ in 1:normInf(move)\n",
    "    if move == (-8, 0)\n",
    "      displayKnots(knotPositions)\n",
    "    end\n",
    "    newKnotPositions[1] = knotPositions[1] .+ (dx, dy)\n",
    "    \n",
    "    for i in 1:knotsCount-1\n",
    "      if normInf(knotPositions[i+1] .- newKnotPositions[i]) > 1\n",
    "        newKnotPositions[i+1] = knotPositions[i]\n",
    "        # println(i, \"-\", newKnotPositions[i+1])\n",
    "        if norm1(knotPositions[i+1] .- newKnotPositions[i]) > 2\n",
    "          newKnotPositions[i+1] = newKnotPositions[i+1] .+ (dx, dy)\n",
    "          # println(i, \"!!!-\", newKnotPositions[i+1])\n",
    "          # newKnotPositions[i+1] = knotPositions[i+1] .+ div.(newKnotPositions[i] .- knotPositions[i+1], 2)\n",
    "        end\n",
    "        if newKnotPositions[i+1] == newKnotPositions[i] || normInf(newKnotPositions[i+1] .- knotPositions[i+1]) > 1\n",
    "          # newKnotPositions[i+1] = newKnotPositions[i+1] .- (dx, dy)\n",
    "          # newKnotPositions[i+1] = div.(knotPositions[i] .+ newKnotPositions[i], 2)\n",
    "          # newKnotPositions[i+1] = newKnotPositions[i+1] .+ (dy, dx)\n",
    "          newKnotPositions[i+1] = knotPositions[i]\n",
    "          # newKnotPositions[i+1] = knotPositions[i+1] .+ newKnotPositions[i] .+ (dx, dy) .- knotPositions[i]\n",
    "        end\n",
    "        # if norm1(newKnotPositions[i] .- knotPositions[i]) > 2\n",
    "        #   if move == (-8, 0)\n",
    "        #     println(i, \"-\", newKnotPositions[i+1])\n",
    "        #   end    \n",
    "        #   # newKnotPositions[i+1] = newKnotPositions[i+1] .+ (dx, dy)\n",
    "        #   newKnotPositions[i+1] = newKnotPositions[i] .- (dy, dx)\n",
    "        # end\n",
    "      else newKnotPositions[i+1] = knotPositions[i+1]\n",
    "      end\n",
    "      if move == (-8, 0)\n",
    "        println(i, \"-\", newKnotPositions[i+1])\n",
    "      end\n",
    "    end\n",
    "\n",
    "    knotPositions = copy(newKnotPositions)\n",
    "    push!(reachedPositions, knotPositions[knotsCount])\n",
    "  end\n",
    "end\n",
    "\n",
    "reachedPositions"
   ]
  },
  {
   "cell_type": "code",
   "execution_count": 21,
   "metadata": {},
   "outputs": [
    {
     "data": {
      "text/plain": [
       "6332"
      ]
     },
     "execution_count": 21,
     "metadata": {},
     "output_type": "execute_result"
    }
   ],
   "source": [
    "# task both\n",
    "task2 = true\n",
    "reachedPositions = Set{Tuple{Int64, Int64}}([(0,0)])\n",
    "knotsCount = task2 ? 10 : 2\n",
    "knotPositions = Vector{Tuple{Int64, Int64}}()\n",
    "newKnotPositions = Vector{Tuple{Int64, Int64}}()\n",
    "for _ in 1:knotsCount\n",
    "  push!(knotPositions, (0,0))\n",
    "  push!(newKnotPositions, (0,0))\n",
    "end\n",
    "\n",
    "for move in moves\n",
    "  # displayKnots(knotPositions)\n",
    "  (dx, dy) = normalize(move)\n",
    "  for _ in 1:normInf(move)\n",
    "    newKnotPositions[1] = knotPositions[1] .+ (dx, dy)\n",
    "    \n",
    "    for i in 1:knotsCount-1\n",
    "      if normInf(knotPositions[i+1] .- newKnotPositions[i]) > 1\n",
    "        newKnotPositions[i+1] = knotPositions[i+1] .+ normalizeInf(newKnotPositions[i] .- knotPositions[i+1])\n",
    "      else newKnotPositions[i+1] = knotPositions[i+1]\n",
    "      end\n",
    "    end\n",
    "\n",
    "    knotPositions = copy(newKnotPositions)\n",
    "    push!(reachedPositions, knotPositions[knotsCount])\n",
    "  end\n",
    "end\n",
    "\n",
    "reachedPositions |> length"
   ]
  },
  {
   "cell_type": "code",
   "execution_count": null,
   "metadata": {},
   "outputs": [],
   "source": []
  }
 ],
 "metadata": {
  "kernelspec": {
   "display_name": "Julia 1.8.3",
   "language": "julia",
   "name": "julia-1.8"
  },
  "language_info": {
   "file_extension": ".jl",
   "mimetype": "application/julia",
   "name": "julia",
   "version": "1.8.3"
  },
  "orig_nbformat": 4
 },
 "nbformat": 4,
 "nbformat_minor": 2
}
