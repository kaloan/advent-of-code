{
 "cells": [
  {
   "cell_type": "code",
   "execution_count": null,
   "metadata": {},
   "outputs": [],
   "source": [
    "using Pipe\n",
    "using DataStructures"
   ]
  },
  {
   "cell_type": "code",
   "execution_count": null,
   "metadata": {},
   "outputs": [],
   "source": [
    "partition(x::String, n::Int) =\n",
    "  begin\n",
    "    (parts, rem) = divrem(length(x), n)\n",
    "    parts = rem > 0 ? parts : parts - 1\n",
    "    [x[1+i*n:min(length(x), (i + 1) * n)] for i = 0:parts]\n",
    "  end"
   ]
  },
  {
   "cell_type": "code",
   "execution_count": null,
   "metadata": {},
   "outputs": [],
   "source": [
    "parseStacks(lines::Vector{String}) =\n",
    "  begin\n",
    "    # Repeat seems to be stupid as in JS and copies by reference ... \n",
    "    # stacks = repeat([Stack{Char}()], div(length(lines[1]), 4) + 1)\n",
    "    stacks = Vector{Stack{Char}}()\n",
    "    for n in 1:(div(length(lines[1]), 4) + 1)\n",
    "      push!(stacks, Stack{Char}())\n",
    "    end\n",
    "\n",
    "    for row in Iterators.reverse(lines)\n",
    "      stackColsGroups = partition(row, 4)\n",
    "      for stackIndex in 1:length(stackColsGroups)\n",
    "        if(stackColsGroups[stackIndex][2] != ' ')\n",
    "          push!(stacks[stackIndex], stackColsGroups[stackIndex][2])\n",
    "        end\n",
    "      end\n",
    "    end\n",
    "    return stacks\n",
    "  end\n",
    "\n",
    "parseMoves(lines::Vector{String}) =\n",
    "  begin\n",
    "    moveRegex = r\"move (\\d*) from (\\d*) to (\\d*)\"\n",
    "    moves = Vector{Tuple{Int64, Int64, Int64}}()\n",
    "    for row in lines\n",
    "      n, from, to = match(moveRegex, row)\n",
    "      push!(moves, (x -> parse(Int64, x)).((n, from, to)))\n",
    "    end\n",
    "    return moves\n",
    "  end"
   ]
  },
  {
   "cell_type": "code",
   "execution_count": null,
   "metadata": {},
   "outputs": [],
   "source": [
    "input = readlines(\"input.txt\")\n",
    "splittingRowIndex = indexin([\"\"], input)[1]\n",
    "stackRows = input[1:(splittingRowIndex-2)]\n",
    "moveRows = input[splittingRowIndex+1:length(input)]\n",
    "stacks = parseStacks(stackRows)\n",
    "moves = parseMoves(moveRows)"
   ]
  },
  {
   "cell_type": "code",
   "execution_count": null,
   "metadata": {},
   "outputs": [],
   "source": [
    "# task 1\n",
    "for (n, from, to) in moves\n",
    "  for i in 1:n\n",
    "    cargo = pop!(stacks[from])\n",
    "    push!(stacks[to], cargo)\n",
    "  end\n",
    "end"
   ]
  },
  {
   "cell_type": "code",
   "execution_count": null,
   "metadata": {},
   "outputs": [],
   "source": [
    "# task 2\n",
    "for (n, from, to) in moves\n",
    "  grabbed = Vector{Char}()\n",
    "  for i in 1:n\n",
    "    push!(grabbed, pop!(stacks[from]))\n",
    "  end\n",
    "  for i in n:-1:1\n",
    "    push!(stacks[to], grabbed[i])\n",
    "  end\n",
    "end"
   ]
  },
  {
   "cell_type": "code",
   "execution_count": null,
   "metadata": {},
   "outputs": [],
   "source": [
    "@pipe map(first, stacks) |> join"
   ]
  },
  {
   "cell_type": "code",
   "execution_count": null,
   "metadata": {},
   "outputs": [],
   "source": []
  }
 ],
 "metadata": {
  "kernelspec": {
   "display_name": "Julia 1.8.3",
   "language": "julia",
   "name": "julia-1.8"
  },
  "language_info": {
   "file_extension": ".jl",
   "mimetype": "application/julia",
   "name": "julia",
   "version": "1.8.3"
  },
  "orig_nbformat": 4
 },
 "nbformat": 4,
 "nbformat_minor": 2
}
