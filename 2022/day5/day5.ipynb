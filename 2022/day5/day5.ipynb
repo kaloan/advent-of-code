{
 "cells": [
  {
   "cell_type": "code",
   "execution_count": 28,
   "metadata": {},
   "outputs": [],
   "source": [
    "using Pipe\n",
    "using DataStructures"
   ]
  },
  {
   "cell_type": "code",
   "execution_count": 42,
   "metadata": {},
   "outputs": [
    {
     "data": {
      "text/plain": [
       "partition (generic function with 2 methods)"
      ]
     },
     "execution_count": 42,
     "metadata": {},
     "output_type": "execute_result"
    }
   ],
   "source": [
    "partition(x::String, n::Int) =\n",
    "  begin\n",
    "    (parts, rem) = divrem(length(x), n)\n",
    "    parts = rem > 0 ? parts : parts - 1\n",
    "    [x[1+i*n:min(length(x), (i + 1) * n)] for i = 0:parts]\n",
    "  end"
   ]
  },
  {
   "cell_type": "code",
   "execution_count": 81,
   "metadata": {},
   "outputs": [
    {
     "data": {
      "text/plain": [
       "parseMoves (generic function with 1 method)"
      ]
     },
     "execution_count": 81,
     "metadata": {},
     "output_type": "execute_result"
    }
   ],
   "source": [
    "parseStacks(lines::Vector{String}) =\n",
    "  begin\n",
    "    # Repeat seems to be stupid as in JS and copies by reference ... \n",
    "    # stacks = repeat([Stack{Char}()], div(length(lines[1]), 4) + 1)\n",
    "    stacks = Vector{Stack{Char}}()\n",
    "    for n in 1:(div(length(lines[1]), 4) + 1)\n",
    "      push!(stacks, Stack{Char}())\n",
    "    end\n",
    "\n",
    "    for row in Iterators.reverse(lines)\n",
    "      stackColsGroups = partition(row, 4)\n",
    "      for stackIndex in 1:length(stackColsGroups)\n",
    "        if(stackColsGroups[stackIndex][2] != ' ')\n",
    "          push!(stacks[stackIndex], stackColsGroups[stackIndex][2])\n",
    "        end\n",
    "      end\n",
    "    end\n",
    "    return stacks\n",
    "  end\n",
    "\n",
    "parseMoves(lines::Vector{String}) =\n",
    "  begin\n",
    "    moveRegex = r\"move (\\d*) from (\\d*) to (\\d*)\"\n",
    "    moves = Vector{Tuple{Int64, Int64, Int64}}()\n",
    "    for row in lines\n",
    "      n, from, to = match(moveRegex, row)\n",
    "      push!(moves, (x -> parse(Int64, x)).((n, from, to)))\n",
    "    end\n",
    "    return moves\n",
    "  end"
   ]
  },
  {
   "cell_type": "code",
   "execution_count": 93,
   "metadata": {},
   "outputs": [
    {
     "data": {
      "text/plain": [
       "502-element Vector{Tuple{Int64, Int64, Int64}}:\n",
       " (3, 9, 6)\n",
       " (7, 6, 2)\n",
       " (1, 1, 5)\n",
       " (7, 7, 1)\n",
       " (3, 9, 7)\n",
       " (1, 9, 1)\n",
       " (1, 7, 2)\n",
       " (11, 1, 8)\n",
       " (9, 8, 2)\n",
       " (1, 6, 7)\n",
       " (3, 7, 3)\n",
       " (7, 3, 4)\n",
       " (9, 8, 7)\n",
       " ⋮\n",
       " (3, 2, 9)\n",
       " (2, 8, 4)\n",
       " (13, 5, 1)\n",
       " (2, 9, 2)\n",
       " (2, 1, 3)\n",
       " (11, 3, 1)\n",
       " (2, 2, 1)\n",
       " (2, 1, 9)\n",
       " (16, 1, 7)\n",
       " (17, 5, 8)\n",
       " (1, 1, 2)\n",
       " (3, 9, 6)"
      ]
     },
     "execution_count": 93,
     "metadata": {},
     "output_type": "execute_result"
    }
   ],
   "source": [
    "input = readlines(\"input.txt\")\n",
    "splittingRowIndex = indexin([\"\"], input)[1]\n",
    "stackRows = input[1:(splittingRowIndex-2)]\n",
    "moveRows = input[splittingRowIndex+1:length(input)]\n",
    "stacks = parseStacks(stackRows)\n",
    "moves = parseMoves(moveRows)"
   ]
  },
  {
   "cell_type": "code",
   "execution_count": 90,
   "metadata": {},
   "outputs": [],
   "source": [
    "# task 1\n",
    "for (n, from, to) in moves\n",
    "  for i in 1:n\n",
    "    cargo = pop!(stacks[from])\n",
    "    push!(stacks[to], cargo)\n",
    "  end\n",
    "end"
   ]
  },
  {
   "cell_type": "code",
   "execution_count": 94,
   "metadata": {},
   "outputs": [],
   "source": [
    "# task 2\n",
    "for (n, from, to) in moves\n",
    "  grabbed = Vector{Char}()\n",
    "  for i in 1:n\n",
    "    push!(grabbed, pop!(stacks[from]))\n",
    "  end\n",
    "  for i in n:-1:1\n",
    "    push!(stacks[to], grabbed[i])\n",
    "  end\n",
    "end"
   ]
  },
  {
   "cell_type": "code",
   "execution_count": 95,
   "metadata": {},
   "outputs": [
    {
     "data": {
      "text/plain": [
       "\"QNDWLMGNS\""
      ]
     },
     "execution_count": 95,
     "metadata": {},
     "output_type": "execute_result"
    }
   ],
   "source": [
    "@pipe map(first, stacks) |> join"
   ]
  },
  {
   "cell_type": "code",
   "execution_count": null,
   "metadata": {},
   "outputs": [],
   "source": []
  }
 ],
 "metadata": {
  "kernelspec": {
   "display_name": "Julia 1.8.3",
   "language": "julia",
   "name": "julia-1.8"
  },
  "language_info": {
   "file_extension": ".jl",
   "mimetype": "application/julia",
   "name": "julia",
   "version": "1.8.3"
  },
  "orig_nbformat": 4
 },
 "nbformat": 4,
 "nbformat_minor": 2
}
