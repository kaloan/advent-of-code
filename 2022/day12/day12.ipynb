{
 "cells": [
  {
   "cell_type": "code",
   "execution_count": null,
   "metadata": {},
   "outputs": [],
   "source": [
    "using DataStructures"
   ]
  },
  {
   "cell_type": "code",
   "execution_count": null,
   "metadata": {},
   "outputs": [],
   "source": [
    "input = readlines(\"input.txt\")\n",
    "rows = length(input)\n",
    "cols = length(input[1])\n",
    "heightmap = Matrix{Char}(undef, rows, cols)\n",
    "visited = fill(false, rows, cols)\n",
    "movement = [(0,1),(0,-1),(1,0),(-1,0)]\n",
    "\n",
    "for i = 1:rows\n",
    "  for j = 1:cols\n",
    "    heightmap[i,j] = input[i][j]\n",
    "  end\n",
    "end\n",
    "\n",
    "startLoc = indexin(['S'], heightmap)[1]\n",
    "endLoc = indexin(['E'], heightmap)[1]\n",
    "\n",
    "heightmap[startLoc] = 'a'\n",
    "heightmap[endLoc] = 'z'"
   ]
  },
  {
   "cell_type": "code",
   "execution_count": null,
   "metadata": {},
   "outputs": [],
   "source": [
    "# task 1\n",
    "minDistances = fill(rows*cols + 1, rows, cols)\n",
    "minDistances[startLoc] = 0\n",
    "\n",
    "# trek(i::Int, j::Int64, step::Int64) =\n",
    "#   begin\n",
    "#     display(\"$i, $j, $step\")\n",
    "#     visited[i, j] = true\n",
    "#     if (heightmap[i,j] == 'E')\n",
    "#       return (true, step)      \n",
    "#     end\n",
    "\n",
    "#     best = (false, -1)\n",
    "#     for (dx, dy) in movement\n",
    "#       if Base.between(i+dx, 1, rows) && Base.between(j+dy, 1, cols) && !visited[i+dx, j+dy] && max(heightmap[i, j], heightmap[i+dx, j+dy]) <= heightmap[i, j] + 1\n",
    "#         res = trek(i+dx, j+dy, step+1)\n",
    "#         if res[1]\n",
    "#           if best[2] == -1\n",
    "#             best = (true, res[2])\n",
    "#           else\n",
    "#             best = (true, min(best[2], res[2]))\n",
    "#           end\n",
    "#         end\n",
    "#       end\n",
    "#     end\n",
    "\n",
    "#     return best\n",
    "#   end\n",
    "# trek(startLoc[1], startLoc[2], 0)\n",
    "\n",
    "\n",
    "# couldReach = Queue{CartesianIndex}()\n",
    "# enqueue!(couldReach, startLoc)\n",
    "\n",
    "# steps = -1\n",
    "# while !isempty(couldReach)\n",
    "#   loc = !dequeue(couldReach)\n",
    "\n",
    "#   visited[loc] = true\n",
    "# end\n",
    "\n",
    "for k = 1:(rows*cols + 1)\n",
    "  for i = 1:rows\n",
    "    for j = 1:cols\n",
    "      for (dx, dy) in movement\n",
    "        if Base.between(i+dx, 1, rows) && Base.between(j+dy, 1, cols) && max(heightmap[i, j], heightmap[i+dx, j+dy]) <= heightmap[i, j] + 1\n",
    "          minDistances[i+dx, j+dy] = min(minDistances[i+dx, j+dy], minDistances[i, j] + 1)\n",
    "        end\n",
    "      end\n",
    "    end\n",
    "  end\n",
    "end\n",
    "\n",
    "minDistances[endLoc]"
   ]
  },
  {
   "cell_type": "code",
   "execution_count": null,
   "metadata": {},
   "outputs": [],
   "source": [
    "# task 2\n",
    "minDistances = fill(rows*cols + 1, rows, cols)\n",
    "minDistances[endLoc] = 0\n",
    "\n",
    "for k = 1:(rows*cols + 1)\n",
    "  for i = 1:rows\n",
    "    for j = 1:cols\n",
    "      for (dx, dy) in movement\n",
    "        if Base.between(i+dx, 1, rows) && Base.between(j+dy, 1, cols) && max(heightmap[i, j], heightmap[i+dx, j+dy]) <= heightmap[i+dx, j+dy] + 1\n",
    "          minDistances[i+dx, j+dy] = min(minDistances[i+dx, j+dy], minDistances[i, j] + 1)\n",
    "        end\n",
    "      end\n",
    "    end\n",
    "  end\n",
    "end\n",
    "\n",
    "cMin = rows * cols + 1\n",
    "for i = 1:rows\n",
    "  for j = 1:cols\n",
    "    if heightmap[i,j] == 'a'\n",
    "      cMin = min(cMin, minDistances[i, j])\n",
    "    end\n",
    "  end\n",
    "end\n",
    "\n",
    "cMin"
   ]
  },
  {
   "cell_type": "code",
   "execution_count": null,
   "metadata": {},
   "outputs": [],
   "source": [
    "max('a', 'b') <= 'b' + 1"
   ]
  },
  {
   "cell_type": "code",
   "execution_count": null,
   "metadata": {},
   "outputs": [],
   "source": [
    "findmin(minDistances)"
   ]
  },
  {
   "cell_type": "code",
   "execution_count": null,
   "metadata": {},
   "outputs": [],
   "source": [
    "minDistances"
   ]
  },
  {
   "cell_type": "code",
   "execution_count": null,
   "metadata": {},
   "outputs": [],
   "source": [
    "minDistances"
   ]
  },
  {
   "cell_type": "code",
   "execution_count": null,
   "metadata": {},
   "outputs": [],
   "source": []
  }
 ],
 "metadata": {
  "kernelspec": {
   "display_name": "Julia 1.8.3",
   "language": "julia",
   "name": "julia-1.8"
  },
  "language_info": {
   "file_extension": ".jl",
   "mimetype": "application/julia",
   "name": "julia",
   "version": "1.8.3"
  },
  "orig_nbformat": 4
 },
 "nbformat": 4,
 "nbformat_minor": 2
}
