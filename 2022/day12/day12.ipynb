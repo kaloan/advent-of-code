{
 "cells": [
  {
   "cell_type": "code",
   "execution_count": null,
   "metadata": {},
   "outputs": [],
   "source": [
    "using DataStructures"
   ]
  },
  {
   "cell_type": "code",
   "execution_count": null,
   "metadata": {},
   "outputs": [],
   "source": [
    "input = readlines(\"test.txt\")\n",
    "rows = length(input)\n",
    "cols = length(input[1])\n",
    "heightmap = Matrix{Char}(undef, rows, cols)\n",
    "visited = fill(false, rows, cols)\n",
    "movement = [(0, 1), (0, -1), (1, 0), (-1, 0)]\n",
    "\n",
    "for i = 1:rows\n",
    "  for j = 1:cols\n",
    "    heightmap[i, j] = input[i][j]\n",
    "  end\n",
    "end\n",
    "\n",
    "startLoc = indexin(['S'], heightmap)[1]\n",
    "endLoc = indexin(['E'], heightmap)[1]\n",
    "\n",
    "heightmap[startLoc] = 'a'\n",
    "heightmap[endLoc] = 'z'"
   ]
  },
  {
   "cell_type": "code",
   "execution_count": null,
   "metadata": {},
   "outputs": [],
   "source": [
    "# task both\n",
    "task2 = true\n",
    "taskStart = task2 ? endLoc : startLoc\n",
    "taskMinSearch = task2 ? 'a' : 'E'\n",
    "minDistances = fill(rows * cols + 1, rows, cols)\n",
    "minDistances[taskStart] = 0\n",
    "heightmap[endLoc] = 'z'\n",
    "\n",
    "couldReach = PriorityQueue{Tuple{Int64,Int64},Int64}()\n",
    "enqueue!(couldReach, taskStart, 0)\n",
    "while !isempty(couldReach)\n",
    "  (i, j) = dequeue!(couldReach)\n",
    "  for (dx, dy) in movement\n",
    "    if Base.between(i + dx, 1, rows) && Base.between(j + dy, 1, cols) && max(heightmap[i, j], heightmap[i+dx, j+dy]) <= heightmap[i+(task2*dx), j+(task2*dy)] + 1\n",
    "      distanceFromNeighbor = min(minDistances[i+dx, j+dy], minDistances[i, j] + 1)\n",
    "      if distanceFromNeighbor < minDistances[i+dx, j+dy]\n",
    "        minDistances[i+dx, j+dy] = distanceFromNeighbor\n",
    "        couldReach[(i + dx, j + dy)] = minDistances[i+dx, j+dy]\n",
    "      end\n",
    "    end\n",
    "  end\n",
    "end\n",
    "\n",
    "heightmap[endLoc] = 'E'\n",
    "cMin = rows * cols + 1\n",
    "for I in CartesianIndices(heightmap)\n",
    "  if heightmap[I] == taskMinSearch\n",
    "    cMin = min(cMin, minDistances[I])\n",
    "  end\n",
    "end\n",
    "\n",
    "cMin"
   ]
  },
  {
   "cell_type": "code",
   "execution_count": null,
   "metadata": {},
   "outputs": [],
   "source": []
  }
 ],
 "metadata": {
  "kernelspec": {
   "display_name": "Julia 1.8.3",
   "language": "julia",
   "name": "julia-1.8"
  },
  "language_info": {
   "file_extension": ".jl",
   "mimetype": "application/julia",
   "name": "julia",
   "version": "1.8.3"
  },
  "orig_nbformat": 4
 },
 "nbformat": 4,
 "nbformat_minor": 2
}
