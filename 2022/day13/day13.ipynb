{
 "cells": [
  {
   "cell_type": "code",
   "execution_count": null,
   "metadata": {},
   "outputs": [],
   "source": [
    "mutable struct Node\n",
    "  val::Union{Int64, Nothing}\n",
    "  children::Vector{Node}\n",
    "  # parent::Union{Directory, Nothing}\n",
    "  size::Int64\n",
    "  Node(val::Union{Int64, Nothing}) = new(val, Vector{Node}())\n",
    "end\n"
   ]
  },
  {
   "cell_type": "code",
   "execution_count": 2,
   "metadata": {},
   "outputs": [
    {
     "data": {
      "text/plain": [
       "compare (generic function with 1 method)"
      ]
     },
     "metadata": {},
     "output_type": "display_data"
    }
   ],
   "source": [
    "# compare(left::Vector{Any}, right::Vector{Any}) = \n",
    "compare(left, right) = \n",
    "  begin\n",
    "    for i in 1:length(left)\n",
    "      if i > length(right)\n",
    "        return false\n",
    "      end\n",
    "\n",
    "      \n",
    "      if typeof(left[i]) == Int64\n",
    "        if typeof(right[i]) == Int64\n",
    "          if left[i] == right[i]\n",
    "            continue\n",
    "          end\n",
    "          return left[i] < right[i]\n",
    "        \n",
    "        else\n",
    "          subComp = compare([left[i]], right[i])\n",
    "          if subComp == nothing\n",
    "            continue\n",
    "          end\n",
    "          return subComp\n",
    "        end\n",
    "\n",
    "      else\n",
    "        if typeof(right[i]) == Int64\n",
    "          subComp = compare(left[i], [right[i]])\n",
    "          if subComp == nothing\n",
    "            continue\n",
    "          end\n",
    "          return subComp\n",
    "        \n",
    "        else\n",
    "          subComp = compare(left[i], right[i])\n",
    "          if subComp == nothing\n",
    "            continue\n",
    "          end\n",
    "          return subComp\n",
    "        end\n",
    "\n",
    "      end\n",
    "    end\n",
    "\n",
    "    if length(left) < length(right)\n",
    "      return true\n",
    "    end\n",
    "\n",
    "    return nothing\n",
    "  end"
   ]
  },
  {
   "cell_type": "code",
   "execution_count": 8,
   "metadata": {},
   "outputs": [
    {
     "data": {
      "text/plain": [
       "parseVector (generic function with 1 method)"
      ]
     },
     "metadata": {},
     "output_type": "display_data"
    }
   ],
   "source": [
    "mySplit(str::AbstractString, delim::Char, delimOpen::Char, delimClose::Char, depth::Int64) =\n",
    "  begin\n",
    "    vec=Vector{SubString}()\n",
    "    startIndex = 1\n",
    "    for i in 1:length(str)\n",
    "      if str[i] == delimOpen\n",
    "        depth+=1\n",
    "      elseif str[i] == delimClose\n",
    "        depth-=1\n",
    "      elseif str[i] == delim && depth == 0\n",
    "        push!(vec, str[startIndex:i-1])\n",
    "        startIndex = i+1\n",
    "      end\n",
    "    end\n",
    "    # println(startIndex)\n",
    "    push!(vec, str[startIndex:length(str)])\n",
    "    return vec\n",
    "  end\n",
    "mySplit(str::AbstractString, delim::Char, delimOpen::Char, delimClose::Char) = mySplit(str, delim, delimOpen, delimClose, 0)\n",
    "\n",
    "\n",
    "parseVector(line::AbstractString) =\n",
    "  begin\n",
    "    # parts = map(x -> string(x), split(line[2:length(line)-1], \",\"))\n",
    "    if line == \"[]\"\n",
    "      return Vector{Any}()\n",
    "    end\n",
    "    parts = mySplit(line[2:length(line)-1], ',', '[',']')\n",
    "    vec = Vector{Any}()\n",
    "    for part in parts\n",
    "      if part[1] != '['\n",
    "        push!(vec, parse(Int64, part))\n",
    "      else\n",
    "        push!(vec, parseVector(part))\n",
    "      end\n",
    "    end\n",
    "    return vec\n",
    "  end"
   ]
  },
  {
   "cell_type": "code",
   "execution_count": 9,
   "metadata": {},
   "outputs": [
    {
     "data": {
      "text/plain": [
       "5390"
      ]
     },
     "metadata": {},
     "output_type": "display_data"
    }
   ],
   "source": [
    "input = readlines(\"input.txt\")\n",
    "\n",
    "properOrder = Vector{Int64}()\n",
    "for i in 1:3:length(input)\n",
    "  first = parseVector(input[i])\n",
    "  second = parseVector(input[i+1])\n",
    "  if compare(first, second)\n",
    "    push!(properOrder, div(i+2, 3))\n",
    "  end\n",
    "end\n",
    "\n",
    "sum(properOrder)"
   ]
  },
  {
   "cell_type": "code",
   "execution_count": null,
   "metadata": {},
   "outputs": [],
   "source": [
    "# task 1\n",
    "map(calculateEnding, input)"
   ]
  },
  {
   "cell_type": "code",
   "execution_count": null,
   "metadata": {},
   "outputs": [],
   "source": [
    "# task 2\n",
    "map(x -> calculateEnding(x, 14), input)"
   ]
  },
  {
   "cell_type": "code",
   "execution_count": null,
   "metadata": {},
   "outputs": [],
   "source": [
    "parse(Vector{Int64}, \"[1,1,3,1,1]\")"
   ]
  },
  {
   "cell_type": "code",
   "execution_count": null,
   "metadata": {},
   "outputs": [],
   "source": [
    "parse.(Int64, map(x -> x[2:length(x)-1], \"[1,1,3,1,1]\"))"
   ]
  },
  {
   "cell_type": "code",
   "execution_count": null,
   "metadata": {},
   "outputs": [],
   "source": [
    "parseVector(\"[1,[2,[3]],4,5]\")\n"
   ]
  },
  {
   "cell_type": "code",
   "execution_count": null,
   "metadata": {},
   "outputs": [],
   "source": [
    "parse.(Int64, split((x -> x[2:length(x)-1])(\"[1,1,3,1,1]\"), \",\"))"
   ]
  },
  {
   "cell_type": "code",
   "execution_count": null,
   "metadata": {},
   "outputs": [],
   "source": [
    "[1,[2,[3,[4,[5,6,7]]]],8,9]"
   ]
  },
  {
   "cell_type": "code",
   "execution_count": null,
   "metadata": {},
   "outputs": [],
   "source": [
    "mySplit(\"1,[2,[3]],4,5\", ',', '[',']')"
   ]
  },
  {
   "cell_type": "code",
   "execution_count": 8,
   "metadata": {},
   "outputs": [
    {
     "data": {
      "text/plain": [
       "Int64"
      ]
     },
     "metadata": {},
     "output_type": "display_data"
    },
    {
     "data": {
      "text/plain": [
       "false"
      ]
     },
     "metadata": {},
     "output_type": "display_data"
    }
   ],
   "source": [
    "display(typeof(2))\n",
    "Int64 == Int32"
   ]
  },
  {
   "cell_type": "code",
   "execution_count": 3,
   "metadata": {},
   "outputs": [
    {
     "data": {
      "text/plain": [
       "false"
      ]
     },
     "metadata": {},
     "output_type": "display_data"
    }
   ],
   "source": [
    "compare(Vector{Any}([1,1,3,1,1]), Vector{Any}([1,1,5,1,1]))\n",
    "compare(Vector{Any}([[[]]]), Vector{Any}([[]]))"
   ]
  },
  {
   "cell_type": "code",
   "execution_count": 13,
   "metadata": {},
   "outputs": [
    {
     "data": {
      "text/plain": [
       "true"
      ]
     },
     "metadata": {},
     "output_type": "display_data"
    }
   ],
   "source": [
    "Vector{Any} <: Any"
   ]
  },
  {
   "cell_type": "code",
   "execution_count": null,
   "metadata": {},
   "outputs": [],
   "source": []
  }
 ],
 "metadata": {
  "kernelspec": {
   "display_name": "Julia 1.8.3",
   "language": "julia",
   "name": "julia-1.8"
  },
  "language_info": {
   "file_extension": ".jl",
   "mimetype": "application/julia",
   "name": "julia",
   "version": "1.8.3"
  },
  "orig_nbformat": 4
 },
 "nbformat": 4,
 "nbformat_minor": 2
}
