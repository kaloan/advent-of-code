{
 "cells": [
  {
   "cell_type": "code",
   "execution_count": null,
   "metadata": {},
   "outputs": [],
   "source": [
    "# If the language does not allow recursive arrays/lists, a tree with only values at the leaves can be used\n",
    "mutable struct Node\n",
    "  val::Union{Int64, Nothing}\n",
    "  children::Vector{Node}\n",
    "  # parent::Union{Directory, Nothing}\n",
    "  size::Int64\n",
    "  Node(val::Union{Int64, Nothing}) = new(val, Vector{Node}())\n",
    "end\n"
   ]
  },
  {
   "cell_type": "code",
   "execution_count": null,
   "metadata": {},
   "outputs": [],
   "source": [
    "# compare(left::Vector{Any}, right::Vector{Any}) = \n",
    "compare(left, right) = \n",
    "  begin\n",
    "    for i in 1:length(left)\n",
    "      if i > length(right)\n",
    "        return false\n",
    "      end\n",
    "\n",
    "      \n",
    "      if typeof(left[i]) == Int64\n",
    "        if typeof(right[i]) == Int64\n",
    "          if left[i] == right[i]\n",
    "            continue\n",
    "          end\n",
    "          return left[i] < right[i]\n",
    "        \n",
    "        else\n",
    "          subComp = compare([left[i]], right[i])\n",
    "          if subComp == nothing\n",
    "            continue\n",
    "          end\n",
    "          return subComp\n",
    "        end\n",
    "\n",
    "      else\n",
    "        if typeof(right[i]) == Int64\n",
    "          subComp = compare(left[i], [right[i]])\n",
    "          if subComp == nothing\n",
    "            continue\n",
    "          end\n",
    "          return subComp\n",
    "        \n",
    "        else\n",
    "          subComp = compare(left[i], right[i])\n",
    "          if subComp == nothing\n",
    "            continue\n",
    "          end\n",
    "          return subComp\n",
    "        end\n",
    "\n",
    "      end\n",
    "    end\n",
    "\n",
    "    if length(left) < length(right)\n",
    "      return true\n",
    "    end\n",
    "\n",
    "    return nothing\n",
    "  end\n",
    "\n",
    "lessThan(left, right) = compare(left, right) == true ? true : false "
   ]
  },
  {
   "cell_type": "code",
   "execution_count": null,
   "metadata": {},
   "outputs": [],
   "source": [
    "mySplit(str::AbstractString, delim::Char, delimOpen::Char, delimClose::Char, depth::Int64) =\n",
    "  begin\n",
    "    vec=Vector{SubString}()\n",
    "    startIndex = 1\n",
    "    for i in 1:length(str)\n",
    "      if str[i] == delimOpen\n",
    "        depth+=1\n",
    "      elseif str[i] == delimClose\n",
    "        depth-=1\n",
    "      elseif str[i] == delim && depth == 0\n",
    "        push!(vec, str[startIndex:i-1])\n",
    "        startIndex = i+1\n",
    "      end\n",
    "    end\n",
    "    push!(vec, str[startIndex:length(str)])\n",
    "    return vec\n",
    "  end\n",
    "mySplit(str::AbstractString, delim::Char, delimOpen::Char, delimClose::Char) = mySplit(str, delim, delimOpen, delimClose, 0)\n",
    "\n",
    "\n",
    "parseVector(line::AbstractString) =\n",
    "  begin\n",
    "    if line == \"[]\"\n",
    "      return Vector{Any}()\n",
    "    end\n",
    "    parts = mySplit(line[2:length(line)-1], ',', '[',']')\n",
    "    vec = Vector{Any}()\n",
    "    for part in parts\n",
    "      if part[1] != '['\n",
    "        push!(vec, parse(Int64, part))\n",
    "      else\n",
    "        push!(vec, parseVector(part))\n",
    "      end\n",
    "    end\n",
    "    return vec\n",
    "  end"
   ]
  },
  {
   "cell_type": "code",
   "execution_count": null,
   "metadata": {},
   "outputs": [],
   "source": [
    "input = readlines(\"input.txt\");"
   ]
  },
  {
   "cell_type": "code",
   "execution_count": null,
   "metadata": {},
   "outputs": [],
   "source": [
    "# task 1\n",
    "properOrder = Vector{Int64}()\n",
    "for i in 1:3:length(input)\n",
    "  first = parseVector(input[i])\n",
    "  second = parseVector(input[i+1])\n",
    "  if compare(first, second)\n",
    "    push!(properOrder, div(i+2, 3))\n",
    "  end\n",
    "end\n",
    "\n",
    "sum(properOrder)"
   ]
  },
  {
   "cell_type": "code",
   "execution_count": null,
   "metadata": {},
   "outputs": [],
   "source": [
    "# task 2\n",
    "markers = [\"[[2]]\", \"[[6]]\"]\n",
    "allPairs = Vector{String}()\n",
    "for line in input\n",
    "  if line != \"\"\n",
    "    push!(allPairs, line)\n",
    "  end\n",
    "end\n",
    "for marker in markers\n",
    "  push!(allPairs, marker)\n",
    "end\n",
    "\n",
    "sorted = sort(allPairs, lt=lessThan, by=parseVector)\n",
    "\n",
    "reduce(*, indexin(markers, sorted))"
   ]
  },
  {
   "cell_type": "code",
   "execution_count": null,
   "metadata": {},
   "outputs": [],
   "source": [
    "# Threw error because Vector{Vector{Any}} is not Vector{Any}, so had to remove types from compare template...\n",
    "compare(Vector{Any}([[[]]]), Vector{Any}([[]]))"
   ]
  },
  {
   "cell_type": "code",
   "execution_count": null,
   "metadata": {},
   "outputs": [],
   "source": [
    "Vector{Any} <: Any"
   ]
  }
 ],
 "metadata": {
  "kernelspec": {
   "display_name": "Julia 1.8.3",
   "language": "julia",
   "name": "julia-1.8"
  },
  "language_info": {
   "file_extension": ".jl",
   "mimetype": "application/julia",
   "name": "julia",
   "version": "1.8.3"
  },
  "orig_nbformat": 4
 },
 "nbformat": 4,
 "nbformat_minor": 2
}
