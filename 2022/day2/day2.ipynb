{
 "cells": [
  {
   "cell_type": "code",
   "execution_count": null,
   "metadata": {},
   "outputs": [],
   "source": [
    "using Pipe\n",
    "using MLStyle"
   ]
  },
  {
   "cell_type": "code",
   "execution_count": null,
   "metadata": {},
   "outputs": [],
   "source": [
    "@data RPSMove begin\n",
    "  Rock()\n",
    "  Paper()\n",
    "  Scissors()\n",
    "end"
   ]
  },
  {
   "cell_type": "code",
   "execution_count": null,
   "metadata": {},
   "outputs": [],
   "source": [
    "movescore(move::RPSMove) =\n",
    "  @match (move) begin\n",
    "    Rock() => 1\n",
    "    Paper() => 2\n",
    "    Scissors() => 3\n",
    "  end\n",
    "\n",
    "roundOutcome(a::RPSMove, b::RPSMove) =\n",
    "  @match (a, b) begin\n",
    "    (Rock(), Paper()) => 6\n",
    "    (Scissors(), Rock()) => 6\n",
    "    (Paper(), Scissors()) => 6\n",
    "    (a, b) => a == b ? 3 : 0\n",
    "  end\n",
    "\n",
    "roundScore(a::RPSMove, b::RPSMove) =\n",
    "  begin\n",
    "    return roundOutcome(a, b) + movescore(b)\n",
    "  end"
   ]
  },
  {
   "cell_type": "code",
   "execution_count": null,
   "metadata": {},
   "outputs": [],
   "source": [
    "beat(move::RPSMove) =\n",
    "  @match (move) begin\n",
    "    Rock() => Paper()\n",
    "    Paper() => Scissors()\n",
    "    Scissors() => Rock()\n",
    "  end\n",
    "\n",
    "lose(move::RPSMove) =\n",
    "  @match (move) begin\n",
    "    Rock() => Scissors()\n",
    "    Paper() => Rock()\n",
    "    Scissors() => Paper()\n",
    "  end"
   ]
  },
  {
   "cell_type": "code",
   "execution_count": null,
   "metadata": {},
   "outputs": [],
   "source": [
    "\n",
    "parseOponent(encryptedMove::AbstractString) =\n",
    "  @match (encryptedMove) begin\n",
    "    \"A\" => Rock()\n",
    "    \"B\" => Paper()\n",
    "    \"C\" => Scissors()\n",
    "  end\n",
    "\n",
    "parseSelf(encryptedMove::AbstractString) =\n",
    "  @match (encryptedMove) begin\n",
    "    \"X\" => Rock()\n",
    "    \"Y\" => Paper()\n",
    "    \"Z\" => Scissors()\n",
    "  end\n",
    "\n",
    "parseInputLine1(line::String) =\n",
    "  begin\n",
    "    encryptedMoves = split(line)\n",
    "    return (parseOponent(first(encryptedMoves)), parseSelf(last(encryptedMoves)))\n",
    "  end"
   ]
  },
  {
   "cell_type": "code",
   "execution_count": null,
   "metadata": {},
   "outputs": [],
   "source": [
    "parseSelfMatchOpponent(encryptedMove::AbstractString, opponentMove::RPSMove) =\n",
    "@match (encryptedMove) begin\n",
    "  \"X\" => lose(opponentMove)\n",
    "  \"Y\" => identity(opponentMove)\n",
    "  \"Z\" => beat(opponentMove)\n",
    "end\n",
    "\n",
    "parseSelfMatchOpponentFunction(encryptedMove::AbstractString) =\n",
    "@match (encryptedMove) begin\n",
    "  \"X\" => lose\n",
    "  \"Y\" => identity\n",
    "  \"Z\" => beat\n",
    "end\n",
    "\n",
    "parseInputLine2(line::String) =\n",
    "  begin\n",
    "    encryptedMoves = split(line)\n",
    "    opMove = parseOponent(first(encryptedMoves))\n",
    "    # myMove = parseSelfMatchOpponent(last(encryptedMoves), opMove)\n",
    "    myMove = parseSelfMatchOpponentFunction(last(encryptedMoves))(opMove)\n",
    "    return (opMove, myMove)\n",
    "  end"
   ]
  },
  {
   "cell_type": "code",
   "execution_count": null,
   "metadata": {},
   "outputs": [],
   "source": [
    "# moveChoices = Vector{Tuple{RPSMove, RPSMove}}[]\n",
    "moveChoices = Vector{Tuple{RPSMove,RPSMove}}()\n",
    "for moveChoice in eachline(\"input.txt\")\n",
    "  @pipe moveChoice |> parseInputLine2 |> push!(moveChoices, _)\n",
    "end"
   ]
  },
  {
   "cell_type": "code",
   "execution_count": null,
   "metadata": {},
   "outputs": [],
   "source": [
    "map(Base.splat(roundScore), moveChoices) |> sum"
   ]
  }
 ],
 "metadata": {
  "kernelspec": {
   "display_name": "Julia 1.8.3",
   "language": "julia",
   "name": "julia-1.8"
  },
  "language_info": {
   "file_extension": ".jl",
   "mimetype": "application/julia",
   "name": "julia",
   "version": "1.8.3"
  },
  "orig_nbformat": 4
 },
 "nbformat": 4,
 "nbformat_minor": 2
}
