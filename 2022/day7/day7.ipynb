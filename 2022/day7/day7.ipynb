{
 "cells": [
  {
   "cell_type": "code",
   "execution_count": null,
   "metadata": {},
   "outputs": [],
   "source": [
    "mutable struct File\n",
    "  name::String\n",
    "  size::Int64\n",
    "  File(name::String, size::Int64) = new(name, size)\n",
    "end"
   ]
  },
  {
   "cell_type": "code",
   "execution_count": null,
   "metadata": {},
   "outputs": [],
   "source": [
    "mutable struct Directory\n",
    "  name::String\n",
    "  subDirectories::Vector{Directory}\n",
    "  files::Vector{File}\n",
    "  parent::Union{Directory, Nothing}\n",
    "  size::Int64\n",
    "  Directory(name::String, parent::Union{Directory, Nothing}) = new(name, Vector{Directory}(), Vector{File}(), parent)\n",
    "end\n"
   ]
  },
  {
   "cell_type": "code",
   "execution_count": null,
   "metadata": {},
   "outputs": [],
   "source": [
    "size(file::File) =\n",
    "  begin\n",
    "    return file.size\n",
    "  end\n",
    "size(dir::Directory) =\n",
    "  begin\n",
    "    return dir.size\n",
    "  end\n",
    "calcSubTreeSize(dir::Directory) =\n",
    "  begin\n",
    "    map(calcSubTreeSize, dir.subDirectories)\n",
    "    filesSize = sum(map(size, dir.files))\n",
    "    subDirectoriesSize = sum(map(size, dir.subDirectories))\n",
    "    dir.size = filesSize + subDirectoriesSize\n",
    "  end\n",
    "subDirsOfSizeBetween(dir::Directory, a::Int64, b::Int64, currFound::Vector{Int64}) =\n",
    "  begin\n",
    "    map(x -> subDirsOfSizeBetween(x, a, b, currFound), dir.subDirectories)\n",
    "    if Base.between(dir.size, a, b)\n",
    "      push!(currFound, dir.size)\n",
    "    end\n",
    "  end"
   ]
  },
  {
   "cell_type": "code",
   "execution_count": null,
   "metadata": {},
   "outputs": [],
   "source": [
    "root = Directory(\"/\", nothing)\n",
    "wd = root\n",
    "for line in eachline(\"input.txt\")\n",
    "  sections = map(x -> String(x), split(line))\n",
    "  if (sections[1] == \"\\$\")\n",
    "    if (sections[2] == \"cd\")\n",
    "      if (sections[3] == \"/\")\n",
    "        while (wd.name != \"/\")\n",
    "          wd = wd.parent\n",
    "        end\n",
    "      elseif (sections[3] == \"..\")\n",
    "        wd = wd.parent\n",
    "      else\n",
    "        dirToSwitchPos = findfirst(dir -> dir.name == sections[3], wd.subDirectories)\n",
    "        wd = wd.subDirectories[dirToSwitchPos]\n",
    "      end\n",
    "    end\n",
    "\n",
    "  elseif (sections[1] == \"dir\")\n",
    "    push!(wd.subDirectories, Directory(sections[2], wd))\n",
    "\n",
    "  else\n",
    "    push!(wd.files, File(sections[2], parse(Int64, sections[1])))\n",
    "  end\n",
    "end\n",
    "calcSubTreeSize(root)"
   ]
  },
  {
   "cell_type": "code",
   "execution_count": null,
   "metadata": {},
   "outputs": [],
   "source": [
    "# task 1\n",
    "mediumDirSizes = Vector{Int64}()\n",
    "subDirsOfSizeBetween(root, 0, 100000, mediumDirSizes)\n",
    "sum(mediumDirSizes)"
   ]
  },
  {
   "cell_type": "code",
   "execution_count": null,
   "metadata": {},
   "outputs": [],
   "source": [
    "# task 2\n",
    "fsMaxSize = 70000000\n",
    "freeSizeNeeded = 30000000\n",
    "neededToDelete = freeSizeNeeded - (fsMaxSize - root.size)\n",
    "sizesForPossibleDeletion = Vector{Int64}()\n",
    "subDirsOfSizeBetween(root, neededToDelete, freeSizeNeeded, sizesForPossibleDeletion)\n",
    "minimum(sizesForPossibleDeletion)"
   ]
  }
 ],
 "metadata": {
  "kernelspec": {
   "display_name": "Julia 1.8.3",
   "language": "julia",
   "name": "julia-1.8"
  },
  "language_info": {
   "file_extension": ".jl",
   "mimetype": "application/julia",
   "name": "julia",
   "version": "1.8.3"
  },
  "orig_nbformat": 4
 },
 "nbformat": 4,
 "nbformat_minor": 2
}
