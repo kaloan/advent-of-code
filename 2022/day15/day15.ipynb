{
 "cells": [
  {
   "cell_type": "code",
   "execution_count": null,
   "metadata": {},
   "outputs": [],
   "source": [
    "norm1(vec::Tuple{Int64,Int64}) = map(abs, vec) |> sum"
   ]
  },
  {
   "cell_type": "code",
   "execution_count": null,
   "metadata": {},
   "outputs": [],
   "source": [
    "sensorCoords = Vector{Tuple{Int64, Int64, Int64}}()\n",
    "beaconCoords = Set{Tuple{Int64, Int64}}()\n",
    "for line in eachline(\"input.txt\")\n",
    "  parseRegex = r\"Sensor at x=(-?\\d+), y=(-?\\d+): closest beacon is at x=(-?\\d+), y=(-?\\d+)\"\n",
    "  sX, sY, bX, bY = parse.(Int64, match(parseRegex, line))\n",
    "  dist = norm1((sX, sY) .- (bX, bY))\n",
    "  push!(sensorCoords, (sX, sY, dist))\n",
    "  push!(beaconCoords, (bX, bY))\n",
    "end\n",
    "\n"
   ]
  },
  {
   "cell_type": "code",
   "execution_count": null,
   "metadata": {},
   "outputs": [],
   "source": [
    "# task 1\n",
    "sWithMinX = findmin(x -> x[1], sensorCoords)\n",
    "sWithMaxX = findmax(x -> x[1], sensorCoords)\n",
    "minXSearch = sWithMinX[1] - sensorCoords[sWithMinX[2]][3]\n",
    "maxXSearch = sWithMaxX[1] + sensorCoords[sWithMaxX[2]][3]\n",
    "\n",
    "ySearch = 2000000\n",
    "posCount = -length(filter(x -> x[2] == ySearch, beaconCoords))\n",
    "posCount -= length(filter(x -> x[2] == ySearch, sensorCoords))\n",
    "\n",
    "# The manhattan distance to any point on the line is atleast as much as the one to the closest point (which is obvoiusly the (sX, ySearch) point)\n",
    "# But if that is greater than the distance, then we will never actually increase posCound in the loop due to this sensor \n",
    "sensorCoordsThatMatter = filter(x -> abs(ySearch - x[2]) <= x[3], sensorCoords)\n",
    "\n",
    "\n",
    "for x in minXSearch:maxXSearch\n",
    "  for (sX, sY, d) in sensorCoordsThatMatter\n",
    "    if norm1((sX, sY) .- (x, ySearch)) <= d\n",
    "      posCount += 1\n",
    "      break\n",
    "    end\n",
    "  end\n",
    "end\n",
    "\n",
    "posCount"
   ]
  }
 ],
 "metadata": {
  "kernelspec": {
   "display_name": "Julia 1.8.3",
   "language": "julia",
   "name": "julia-1.8"
  },
  "language_info": {
   "file_extension": ".jl",
   "mimetype": "application/julia",
   "name": "julia",
   "version": "1.8.3"
  },
  "orig_nbformat": 4
 },
 "nbformat": 4,
 "nbformat_minor": 2
}
