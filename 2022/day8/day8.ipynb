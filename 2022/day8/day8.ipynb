{
 "cells": [
  {
   "cell_type": "code",
   "execution_count": null,
   "metadata": {},
   "outputs": [],
   "source": [
    "# for j in [1, cols]\n",
    "#   for i in 1:rows\n",
    "#     visible[i,j] = true\n",
    "#   end\n",
    "# end\n",
    "# for i in [1, rows]\n",
    "#   for j in 1:cols\n",
    "#     visible[i,j] = true\n",
    "#   end\n",
    "# end\n",
    "\n",
    "# for j in 2:cols-1\n",
    "#   downwardColMax = trees[1,j]\n",
    "#   for i in 2:rows-1\n",
    "#     (canSeeFromSide, downwardColMax) = checkAndUpdateMax(trees[i,j], downwardColMax)\n",
    "#     visible[i,j] = visible[i,j] || canSeeFromSide\n",
    "#   end\n",
    "#   upwardColMax = trees[rows,j]\n",
    "#   for i in rows-1:-1:2\n",
    "#     (canSeeFromSide, upwardColMax) = checkAndUpdateMax(trees[i,j], upwardColMax)\n",
    "#     visible[i,j] = visible[i,j] || canSeeFromSide\n",
    "#   end\n",
    "# end\n",
    "# for i in 2:rows-1\n",
    "#   rightwardColMax = trees[i,1]\n",
    "#   for j in 2:cols-1\n",
    "#     (canSeeFromSide, rightwardColMax) = checkAndUpdateMax(trees[i,j], rightwardColMax)\n",
    "#     visible[i,j] = visible[i,j] || canSeeFromSide\n",
    "#   end\n",
    "#   leftwardColMax = trees[i,cols]\n",
    "#   for j in cols-1:-1:2\n",
    "#     (canSeeFromSide, leftwardColMax) = checkAndUpdateMax(trees[i,j], leftwardColMax)\n",
    "#     visible[i,j] = visible[i,j] || canSeeFromSide\n",
    "#   end\n",
    "# end\n",
    "\n"
   ]
  },
  {
   "cell_type": "code",
   "execution_count": 5,
   "metadata": {},
   "outputs": [
    {
     "data": {
      "text/plain": [
       "mySign (generic function with 1 method)"
      ]
     },
     "execution_count": 5,
     "metadata": {},
     "output_type": "execute_result"
    }
   ],
   "source": [
    "checkAndUpdateMax(val, cMax) =\n",
    "  begin\n",
    "    if (val <= cMax)\n",
    "      return (false, cMax)\n",
    "    else\n",
    "      return (true, val)\n",
    "    end\n",
    "  end\n",
    "\n",
    "mySign(x) =\n",
    "  begin\n",
    "    if (x > 0)\n",
    "      return 2\n",
    "    else\n",
    "      return 1\n",
    "    end\n",
    "  end"
   ]
  },
  {
   "cell_type": "code",
   "execution_count": 70,
   "metadata": {},
   "outputs": [],
   "source": [
    "input = readlines(\"input.txt\")\n",
    "(rows, cols) = length(input), length(input[1]) \n",
    "trees = zeros(Int8, rows, cols)\n",
    "for i in 1:rows\n",
    "  for j in 1:cols\n",
    "    trees[i,j] = parse(Int8, input[i][j])\n",
    "  end\n",
    "end"
   ]
  },
  {
   "cell_type": "code",
   "execution_count": 7,
   "metadata": {},
   "outputs": [
    {
     "data": {
      "text/plain": [
       "21"
      ]
     },
     "execution_count": 7,
     "metadata": {},
     "output_type": "execute_result"
    }
   ],
   "source": [
    "# task 1\n",
    "visible = fill(false, (rows, cols))\n",
    "for j in 1:cols\n",
    "  downwardColMax = -1\n",
    "  for i in 1:rows\n",
    "    (canSeeFromSide, downwardColMax) = checkAndUpdateMax(trees[i,j], downwardColMax)\n",
    "    visible[i,j] = visible[i,j] || canSeeFromSide\n",
    "  end\n",
    "  upwardColMax = -1\n",
    "  for i in rows:-1:1\n",
    "    (canSeeFromSide, upwardColMax) = checkAndUpdateMax(trees[i,j], upwardColMax)\n",
    "    visible[i,j] = visible[i,j] || canSeeFromSide\n",
    "  end\n",
    "end\n",
    "for i in 1:rows\n",
    "  rightwardColMax = -1\n",
    "  for j in 1:cols\n",
    "    (canSeeFromSide, rightwardColMax) = checkAndUpdateMax(trees[i,j], rightwardColMax)\n",
    "    visible[i,j] = visible[i,j] || canSeeFromSide\n",
    "  end\n",
    "  leftwardColMax = -1\n",
    "  for j in cols:-1:1\n",
    "    (canSeeFromSide, leftwardColMax) = checkAndUpdateMax(trees[i,j], leftwardColMax)\n",
    "    visible[i,j] = visible[i,j] || canSeeFromSide\n",
    "  end\n",
    "end\n",
    "count(visible)"
   ]
  },
  {
   "cell_type": "code",
   "execution_count": 71,
   "metadata": {},
   "outputs": [],
   "source": [
    "# task 2\n",
    "checked = fill(false, (rows, cols))\n",
    "movement = [(0,-1),(-1,0),(0,1),(1,0)]\n",
    "seenFromAngles = Vector{Matrix{Int64}}()\n",
    "for i in 1:4\n",
    "  push!(seenFromAngles, zeros(Int64, rows, cols))\n",
    "end"
   ]
  },
  {
   "cell_type": "code",
   "execution_count": 72,
   "metadata": {},
   "outputs": [],
   "source": [
    "for j in 1:cols\n",
    "  numRepeated = 1\n",
    "  for i in 2:rows\n",
    "    if (trees[i,j] > trees[i-1,j])\n",
    "      seenFromAngles[1][i,j] += numRepeated \n",
    "      if (trees[i,j] > trees[i-numRepeated,j])\n",
    "        seenFromAngles[1][i,j] += seenFromAngles[1][i-numRepeated, j]\n",
    "      end\n",
    "      numRepeated = 1\n",
    "    elseif (trees[i,j] == trees[i-1, j])\n",
    "      seenFromAngles[1][i,j] = 1\n",
    "      numRepeated += 1\n",
    "    else\n",
    "      seenFromAngles[1][i,j] = 1\n",
    "      numRepeated += 1\n",
    "    end\n",
    "  end\n",
    "end\n",
    "\n",
    "for i in 1:rows\n",
    "  numRepeated = 1\n",
    "  for j in 2:cols\n",
    "    if (trees[i,j] > trees[i,j-1])\n",
    "      seenFromAngles[2][i,j] += numRepeated \n",
    "      if (trees[i,j] > trees[i,j-numRepeated]) \n",
    "        seenFromAngles[2][i,j] += seenFromAngles[2][i, j-numRepeated]\n",
    "      end\n",
    "      numRepeated = 1\n",
    "    elseif (trees[i,j] == trees[i, j-1])\n",
    "      seenFromAngles[2][i,j] = 1\n",
    "      numRepeated += 1\n",
    "    else\n",
    "      seenFromAngles[2][i,j] = 1\n",
    "      numRepeated += 1\n",
    "    end\n",
    "  end\n",
    "end\n",
    "\n",
    "for j in 1:cols\n",
    "  numRepeated = 1\n",
    "  for i in rows-1:-1:1\n",
    "    if (trees[i,j] > trees[i+1,j])\n",
    "      seenFromAngles[3][i,j] += numRepeated \n",
    "      if (trees[i,j] > trees[i+numRepeated,j]) \n",
    "        seenFromAngles[3][i,j] += seenFromAngles[3][i+numRepeated, j]\n",
    "      end\n",
    "      numRepeated = 1\n",
    "    elseif (trees[i,j] == trees[i+1, j])\n",
    "      seenFromAngles[3][i,j] = 1\n",
    "      numRepeated += 1\n",
    "    else\n",
    "      seenFromAngles[3][i,j] = 1\n",
    "      numRepeated += 1\n",
    "    end\n",
    "  end\n",
    "end\n",
    "\n",
    "for i in 1:rows\n",
    "  numRepeated = 1\n",
    "  for j in cols-1:-1:1\n",
    "    if (trees[i,j] > trees[i,j+1])\n",
    "      seenFromAngles[4][i,j] += numRepeated \n",
    "      if (trees[i,j] > trees[i,j+numRepeated]) \n",
    "        seenFromAngles[4][i,j] += seenFromAngles[4][i, j+numRepeated]\n",
    "      end\n",
    "      numRepeated = 1\n",
    "    elseif (trees[i,j] == trees[i, j+1])\n",
    "      seenFromAngles[4][i,j] = 1\n",
    "      numRepeated += 1\n",
    "    else\n",
    "      seenFromAngles[4][i,j] = 1\n",
    "      numRepeated += 1\n",
    "    end\n",
    "  end\n",
    "end\n",
    "\n",
    "# for k in 1:4\n",
    "#   (dx, dy) = movement[k]\n",
    "#   leftRows = [1, rows][mySign(dx)]\n",
    "#   rightRows = [1, rows][3 - mySign(dx)]\n",
    "#   leftCols = [1, cols][mySign(dy)]\n",
    "#   rightCols = [1, cols][3 - mySign(dy)]\n",
    "#   for j=leftCols:dy:rightCols, i=leftRows:dx:rightRows\n",
    "#     if (trees[i,j] > trees[i-1,j])\n",
    "#       seenFromAngles[i,j] = numRepeated + seenFromAngles[i-numRepeated, j]\n",
    "#       numRepeated = 1\n",
    "#     else if (trees[i,j] == trees[i-1, j])\n",
    "#       numRepeated += 1\n",
    "#     else\n",
    "#       seenFromAngles[k][i,j] = 1\n",
    "#       numRepeated = 1\n",
    "#     end\n",
    "#   end"
   ]
  },
  {
   "cell_type": "code",
   "execution_count": 62,
   "metadata": {},
   "outputs": [],
   "source": [
    "fillSeens(i,j) =\n",
    "  begin\n",
    "    checked[i,j] = true\n",
    "    for k in 1:4 \n",
    "      (dx, dy) = movement[k]\n",
    "      if (Base.between(i+dx, 1, rows) && Base.between(j+dy, 1, cols) && !checked[i+dx,j+dy])\n",
    "        fillSeens(i+dx, j+dy)\n",
    "        if (trees[i,j]>trees[i+dx,j+dy])\n",
    "          seenFromAngles[k][i,j] = seenFromAngles[k][i+dx, j+dy] + 1\n",
    "        # else\n",
    "        #   seenFromAngles[k][i,j] = 1\n",
    "        end  \n",
    "      end\n",
    "      seenFromAngles[k][i,j] = max(seenFromAngles[k][i,j], 1)\n",
    "    end\n",
    "  end\n",
    "\n",
    "fillSeens(1,1)"
   ]
  },
  {
   "cell_type": "code",
   "execution_count": 73,
   "metadata": {},
   "outputs": [
    {
     "data": {
      "text/plain": [
       "(6776, CartesianIndex(59, 9))"
      ]
     },
     "execution_count": 73,
     "metadata": {},
     "output_type": "execute_result"
    }
   ],
   "source": [
    "numSeen = ones(Int64, rows, cols)\n",
    "for j in 1:cols\n",
    "  for i in 1: rows\n",
    "    for k in 1:4\n",
    "      # seenFromAngles[k][i,j] = max(seenFromAngles[k][i,j], 1)\n",
    "      numSeen[i,j] *= seenFromAngles[k][i,j]\n",
    "    end\n",
    "  end\n",
    "end\n",
    "findmax(numSeen)\n",
    "# findmax(numSeen)[1]"
   ]
  },
  {
   "cell_type": "code",
   "execution_count": 74,
   "metadata": {},
   "outputs": [
    {
     "data": {
      "text/plain": [
       "99×99 Matrix{Int64}:\n",
       " 0    0    0    0    0   0    0     0  …    0    0    0    0    0    0  0\n",
       " 0    1    2   12    1  72    1     1       1   45    1   15    1    2  0\n",
       " 0   60   20    1   24   1    1   224      32    1    6    1   48    1  0\n",
       " 0    8    1  192    1   4    9     4       6    5    1    3    1   72  0\n",
       " 0    1    4    3   32  15  320     2       2  100    4    3    2    1  0\n",
       " 0   24    1    1    4  60    1    30  …   24    1    4    1   96    2  0\n",
       " 0    1   48    3  288   5   16    27     360   24    1    6   12   15  0\n",
       " 0   30    1   16   63   1   14     4       2    2  252    2    1   18  0\n",
       " 0    1  240    2    1   6    1    35       8    1    1   48   30    1  0\n",
       " 0   42    1   36    9   2    1  1440      96   18    2    2   60    3  0\n",
       " 0    1    4    1  400   1   18     1  …   56    1  288    1    1    3  0\n",
       " 0   24    1    1   72  21    7     6       1  100    3   42   12    2  0\n",
       " 0    1    8   36    2   1  192     1      90    1    1    5    3    1  0\n",
       " ⋮                       ⋮             ⋱                   ⋮            \n",
       " 0    4   64   24    1   3  720     6      36    7  576    1    1    3  0\n",
       " 0    1    1    1   32   5   50     1       8   24    1  216    1    2  0\n",
       " 0   12   24    4   72   1    1   105       2    1   24    1   12   54  0\n",
       " 0    1    1    3    1  60   54     3  …    1    4   16   12    1    6  0\n",
       " 0    4    2   48   36   1    3    40       1    3   12    1   24    1  0\n",
       " 0  105    3    5    1   8    1     1      20    1   12    1  336    6  0\n",
       " 0    1    1  180    2  30  108     3      12    3  240    5    4    1  0\n",
       " 0   18    1   12   48   1    4     1     245   12    1   72    1  100  0\n",
       " 0    2   72    1    8   1   96     6  …    8    2   12    1   72    1  0\n",
       " 0    1   20    1    2  18    8   700      18    1    4  144    1    4  0\n",
       " 0    9    1    8   45   4    1     3       2  105    1    2    4    1  0\n",
       " 0    0    0    0    0   0    0     0       0    0    0    0    0    0  0"
      ]
     },
     "execution_count": 74,
     "metadata": {},
     "output_type": "execute_result"
    }
   ],
   "source": [
    "numSeen"
   ]
  },
  {
   "cell_type": "code",
   "execution_count": 63,
   "metadata": {},
   "outputs": [
    {
     "data": {
      "text/plain": [
       "5×5 Matrix{Int64}:\n",
       " 0  0  0  0  0\n",
       " 1  1  1  1  1\n",
       " 2  1  1  2  1\n",
       " 1  1  2  3  3\n",
       " 1  3  1  4  1"
      ]
     },
     "metadata": {},
     "output_type": "display_data"
    },
    {
     "data": {
      "text/plain": [
       "5×5 Matrix{Int64}:\n",
       " 0  1  2  3  1\n",
       " 0  1  1  1  4\n",
       " 0  1  1  1  1\n",
       " 0  1  2  1  4\n",
       " 0  1  1  3  1"
      ]
     },
     "metadata": {},
     "output_type": "display_data"
    },
    {
     "data": {
      "text/plain": [
       "5×5 Matrix{Int64}:\n",
       " 4  1  1  4  4\n",
       " 1  1  3  1  1\n",
       " 2  2  1  1  1\n",
       " 1  1  1  1  1\n",
       " 0  0  0  0  0"
      ]
     },
     "metadata": {},
     "output_type": "display_data"
    },
    {
     "data": {
      "text/plain": [
       "5×5 Matrix{Int64}:\n",
       " 4  1  1  1  0\n",
       " 1  1  2  1  0\n",
       " 4  3  1  1  0\n",
       " 1  1  2  1  0\n",
       " 1  3  1  1  0"
      ]
     },
     "metadata": {},
     "output_type": "display_data"
    }
   ],
   "source": [
    "for k in 1:4\n",
    "  display(seenFromAngles[k])\n",
    "end"
   ]
  },
  {
   "cell_type": "code",
   "execution_count": 2,
   "metadata": {},
   "outputs": [
    {
     "data": {
      "text/plain": [
       "-1"
      ]
     },
     "execution_count": 2,
     "metadata": {},
     "output_type": "execute_result"
    }
   ],
   "source": []
  },
  {
   "cell_type": "code",
   "execution_count": null,
   "metadata": {},
   "outputs": [],
   "source": []
  }
 ],
 "metadata": {
  "kernelspec": {
   "display_name": "Julia 1.8.3",
   "language": "julia",
   "name": "julia-1.8"
  },
  "language_info": {
   "file_extension": ".jl",
   "mimetype": "application/julia",
   "name": "julia",
   "version": "1.8.3"
  },
  "orig_nbformat": 4
 },
 "nbformat": 4,
 "nbformat_minor": 2
}
