{
 "cells": [
  {
   "cell_type": "code",
   "execution_count": null,
   "metadata": {},
   "outputs": [],
   "source": [
    "# for j in [1, cols]\n",
    "#   for i in 1:rows\n",
    "#     visible[i,j] = true\n",
    "#   end\n",
    "# end\n",
    "# for i in [1, rows]\n",
    "#   for j in 1:cols\n",
    "#     visible[i,j] = true\n",
    "#   end\n",
    "# end\n",
    "\n",
    "# for j in 2:cols-1\n",
    "#   downwardColMax = trees[1,j]\n",
    "#   for i in 2:rows-1\n",
    "#     (canSeeFromSide, downwardColMax) = checkAndUpdateMax(trees[i,j], downwardColMax)\n",
    "#     visible[i,j] = visible[i,j] || canSeeFromSide\n",
    "#   end\n",
    "#   upwardColMax = trees[rows,j]\n",
    "#   for i in rows-1:-1:2\n",
    "#     (canSeeFromSide, upwardColMax) = checkAndUpdateMax(trees[i,j], upwardColMax)\n",
    "#     visible[i,j] = visible[i,j] || canSeeFromSide\n",
    "#   end\n",
    "# end\n",
    "# for i in 2:rows-1\n",
    "#   rightwardColMax = trees[i,1]\n",
    "#   for j in 2:cols-1\n",
    "#     (canSeeFromSide, rightwardColMax) = checkAndUpdateMax(trees[i,j], rightwardColMax)\n",
    "#     visible[i,j] = visible[i,j] || canSeeFromSide\n",
    "#   end\n",
    "#   leftwardColMax = trees[i,cols]\n",
    "#   for j in cols-1:-1:2\n",
    "#     (canSeeFromSide, leftwardColMax) = checkAndUpdateMax(trees[i,j], leftwardColMax)\n",
    "#     visible[i,j] = visible[i,j] || canSeeFromSide\n",
    "#   end\n",
    "# end\n",
    "\n"
   ]
  },
  {
   "cell_type": "code",
   "execution_count": null,
   "metadata": {},
   "outputs": [],
   "source": [
    "checkAndUpdateMax(val, cMax) =\n",
    "  begin\n",
    "    if (val<=cMax)\n",
    "      return (false, cMax)\n",
    "    else\n",
    "      return (true, val)\n",
    "    end\n",
    "  end"
   ]
  },
  {
   "cell_type": "code",
   "execution_count": null,
   "metadata": {},
   "outputs": [],
   "source": [
    "input = readlines(\"input.txt\")\n",
    "(rows, cols) = length(input), length(input[1]) \n",
    "trees = zeros(Int8, rows, cols)\n",
    "visible = fill(false, (rows, cols))\n",
    "for i in 1:rows\n",
    "  for j in 1:cols\n",
    "    trees[i,j] = parse(Int8, input[i][j])\n",
    "  end\n",
    "end\n",
    "\n",
    "for j in 1:cols\n",
    "  downwardColMax = -1\n",
    "  for i in 1:rows\n",
    "    (canSeeFromSide, downwardColMax) = checkAndUpdateMax(trees[i,j], downwardColMax)\n",
    "    visible[i,j] = visible[i,j] || canSeeFromSide\n",
    "  end\n",
    "  upwardColMax = -1\n",
    "  for i in rows:-1:1\n",
    "    (canSeeFromSide, upwardColMax) = checkAndUpdateMax(trees[i,j], upwardColMax)\n",
    "    visible[i,j] = visible[i,j] || canSeeFromSide\n",
    "  end\n",
    "end\n",
    "for i in 1:rows\n",
    "  rightwardColMax = -1\n",
    "  for j in 1:cols\n",
    "    (canSeeFromSide, rightwardColMax) = checkAndUpdateMax(trees[i,j], rightwardColMax)\n",
    "    visible[i,j] = visible[i,j] || canSeeFromSide\n",
    "  end\n",
    "  leftwardColMax = -1\n",
    "  for j in cols:-1:1\n",
    "    (canSeeFromSide, leftwardColMax) = checkAndUpdateMax(trees[i,j], leftwardColMax)\n",
    "    visible[i,j] = visible[i,j] || canSeeFromSide\n",
    "  end\n",
    "end"
   ]
  },
  {
   "cell_type": "code",
   "execution_count": null,
   "metadata": {},
   "outputs": [],
   "source": [
    "# task 1\n",
    "count(visible)"
   ]
  }
 ],
 "metadata": {
  "kernelspec": {
   "display_name": "Julia 1.8.3",
   "language": "julia",
   "name": "julia-1.8"
  },
  "language_info": {
   "file_extension": ".jl",
   "mimetype": "application/julia",
   "name": "julia",
   "version": "1.8.3"
  },
  "orig_nbformat": 4
 },
 "nbformat": 4,
 "nbformat_minor": 2
}
