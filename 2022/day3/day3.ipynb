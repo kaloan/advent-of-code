{
 "cells": [
  {
   "cell_type": "code",
   "execution_count": 47,
   "metadata": {},
   "outputs": [],
   "source": [
    "using Pipe"
   ]
  },
  {
   "cell_type": "code",
   "execution_count": 48,
   "metadata": {},
   "outputs": [
    {
     "data": {
      "text/plain": [
       "scoreNum (generic function with 1 method)"
      ]
     },
     "execution_count": 48,
     "metadata": {},
     "output_type": "execute_result"
    }
   ],
   "source": [
    "scoreNum(c::Char) =\n",
    "  begin\n",
    "    if (c > 'a' && c <= 'z')\n",
    "      return c - 'a' + 1\n",
    "    else\n",
    "      return c - 'A' + 27\n",
    "    end\n",
    "  end"
   ]
  },
  {
   "cell_type": "code",
   "execution_count": 100,
   "metadata": {},
   "outputs": [
    {
     "data": {
      "text/plain": [
       "partition (generic function with 1 method)"
      ]
     },
     "execution_count": 100,
     "metadata": {},
     "output_type": "execute_result"
    }
   ],
   "source": [
    "partition(x::AbstractArray, n::Int) =\n",
    "  begin\n",
    "    (parts, rem) = divrem(length(x), n)\n",
    "    parts = rem > 0 ? parts : parts - 1\n",
    "    [x[1+i*n:min(length(x), (i + 1) * n)] for i = 0:parts]\n",
    "  end"
   ]
  },
  {
   "cell_type": "code",
   "execution_count": 73,
   "metadata": {},
   "outputs": [
    {
     "data": {
      "text/plain": [
       "parseInputLine (generic function with 1 method)"
      ]
     },
     "execution_count": 73,
     "metadata": {},
     "output_type": "execute_result"
    }
   ],
   "source": [
    "parseInputLine(line::String) =\n",
    "  begin\n",
    "    midLength = @pipe line |> length |> div(_, 2)\n",
    "    compartment1 = line[1:midLength] |> unique\n",
    "    compartment2 = line[midLength+1:length(line)] |> unique\n",
    "    return intersect(compartment1, compartment2)[1]\n",
    "  end"
   ]
  },
  {
   "cell_type": "code",
   "execution_count": 74,
   "metadata": {},
   "outputs": [],
   "source": [
    "problemItems = Vector{Char}()\n",
    "for rucksack in eachline(\"input.txt\")\n",
    "  @pipe rucksack |> parseInputLine |> push!(problemItems, _)\n",
    "end"
   ]
  },
  {
   "cell_type": "code",
   "execution_count": 72,
   "metadata": {},
   "outputs": [
    {
     "data": {
      "text/plain": [
       "7908"
      ]
     },
     "execution_count": 72,
     "metadata": {},
     "output_type": "execute_result"
    }
   ],
   "source": [
    "map(scoreNum, problemItems) |> sum"
   ]
  },
  {
   "cell_type": "code",
   "execution_count": 101,
   "metadata": {},
   "outputs": [],
   "source": [
    "badges = Vector{Char}()\n",
    "for rucksackGroup in partition(readlines(\"input.txt\"), 3)\n",
    "  @pipe rucksackGroup |> map(unique, _) |> Base.splat(intersect) |> first |> push!(badges, _)\n",
    "end"
   ]
  },
  {
   "cell_type": "code",
   "execution_count": 102,
   "metadata": {},
   "outputs": [
    {
     "data": {
      "text/plain": [
       "2838"
      ]
     },
     "execution_count": 102,
     "metadata": {},
     "output_type": "execute_result"
    }
   ],
   "source": [
    "map(scoreNum, badges) |> sum"
   ]
  },
  {
   "cell_type": "code",
   "execution_count": null,
   "metadata": {},
   "outputs": [],
   "source": []
  }
 ],
 "metadata": {
  "kernelspec": {
   "display_name": "Julia 1.8.3",
   "language": "julia",
   "name": "julia-1.8"
  },
  "language_info": {
   "file_extension": ".jl",
   "mimetype": "application/julia",
   "name": "julia",
   "version": "1.8.3"
  },
  "orig_nbformat": 4
 },
 "nbformat": 4,
 "nbformat_minor": 2
}
