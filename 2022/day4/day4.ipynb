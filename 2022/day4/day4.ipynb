{
 "cells": [
  {
   "cell_type": "code",
   "execution_count": null,
   "metadata": {},
   "outputs": [],
   "source": [
    "using Pipe"
   ]
  },
  {
   "cell_type": "code",
   "execution_count": null,
   "metadata": {},
   "outputs": [],
   "source": [
    "parseInputLine(line::String) =\n",
    "  begin\n",
    "    ranges = @pipe split(line, \",\") |> map(x -> split(x, \"-\"), _) |> map(x -> map(y -> parse(Int64, y), x), _) |> map(x -> first(x):last(x), _)\n",
    "    overlap = ranges |> Base.splat(intersect)\n",
    "    # Intersecting ranges is retarded(https://github.com/JuliaLang/julia/issues/40331) - also indexin is supposed to never return an empty array...\n",
    "    # return indexin(overlap, ranges)\n",
    "    #return @pipe indexin(overlap, ranges) |> collect |> (isempty(_) || first(_) == nothing) |> .!\n",
    "    return @pipe indexin(overlap, ranges) |> collect\n",
    "  end\n",
    "\n",
    "parseInputLineSane(line::String) =\n",
    "  begin\n",
    "    ranges = @pipe split(line, \",\") |> map(x -> split(x, \"-\"), _) |> map(x -> map(y -> parse(Int64, y), x), _) |> map(x -> collect(first(x):last(x)), _)\n",
    "    overlap = ranges |> Base.splat(intersect)\n",
    "    return @pipe filter(x -> x == overlap, ranges) |> (length(_) != 0)\n",
    "  end\n",
    "\n",
    "parseInputLine2(line::String) =\n",
    "  begin\n",
    "    ranges = @pipe split(line, \",\") |> map(x -> split(x, \"-\"), _) |> map(x -> map(y -> parse(Int64, y), x), _) |> map(x -> collect(first(x):last(x)), _)\n",
    "    overlap = ranges |> Base.splat(intersect)\n",
    "    return !isempty(collect(overlap))\n",
    "  end"
   ]
  },
  {
   "cell_type": "code",
   "execution_count": null,
   "metadata": {},
   "outputs": [],
   "source": [
    "#eclipsingAssignments = Vector{Union{UnitRange{Int64},Nothing}}()\n",
    "eclipsingAssignments = Vector{Bool}()\n",
    "for assignmentPair in eachline(\"input.txt\")\n",
    "  @pipe assignmentPair |> parseInputLine2 |> push!(eclipsingAssignments, _)\n",
    "end"
   ]
  },
  {
   "cell_type": "code",
   "execution_count": null,
   "metadata": {},
   "outputs": [],
   "source": [
    "filter(x -> x == true, eclipsingAssignments) |> length"
   ]
  },
  {
   "cell_type": "markdown",
   "metadata": {},
   "source": [
    "Examples of how disgusting intersect is"
   ]
  },
  {
   "cell_type": "code",
   "execution_count": null,
   "metadata": {},
   "outputs": [],
   "source": [
    "intersect(1:6,2:4)"
   ]
  },
  {
   "cell_type": "code",
   "execution_count": null,
   "metadata": {},
   "outputs": [],
   "source": [
    "indexin(1, [2,3]) == nothing"
   ]
  },
  {
   "cell_type": "code",
   "execution_count": null,
   "metadata": {},
   "outputs": [],
   "source": [
    "isempty(collect(intersect(2:4, 6:8)))"
   ]
  },
  {
   "cell_type": "code",
   "execution_count": null,
   "metadata": {},
   "outputs": [],
   "source": [
    "intersect(-1:1, -5:8)"
   ]
  },
  {
   "cell_type": "code",
   "execution_count": null,
   "metadata": {},
   "outputs": [],
   "source": [
    "indexin(7:7, [5:7, 7:9]) |> collect"
   ]
  },
  {
   "cell_type": "code",
   "execution_count": null,
   "metadata": {},
   "outputs": [],
   "source": [
    "isempty(5:4)"
   ]
  },
  {
   "cell_type": "code",
   "execution_count": null,
   "metadata": {},
   "outputs": [],
   "source": [
    "filter(x -> x == [3, 4, 5, 6, 7], [[2, 3, 4, 5, 6, 7, 8], [3, 4, 5, 6, 7]])\n"
   ]
  }
 ],
 "metadata": {
  "kernelspec": {
   "display_name": "Julia 1.8.3",
   "language": "julia",
   "name": "julia-1.8"
  },
  "language_info": {
   "file_extension": ".jl",
   "mimetype": "application/julia",
   "name": "julia",
   "version": "1.8.3"
  },
  "orig_nbformat": 4
 },
 "nbformat": 4,
 "nbformat_minor": 2
}
