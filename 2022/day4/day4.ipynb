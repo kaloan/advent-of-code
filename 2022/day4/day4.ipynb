{
 "cells": [
  {
   "cell_type": "code",
   "execution_count": 16,
   "metadata": {},
   "outputs": [],
   "source": [
    "using Pipe"
   ]
  },
  {
   "cell_type": "code",
   "execution_count": 98,
   "metadata": {},
   "outputs": [
    {
     "data": {
      "text/plain": [
       "parseInputLine2 (generic function with 1 method)"
      ]
     },
     "execution_count": 98,
     "metadata": {},
     "output_type": "execute_result"
    }
   ],
   "source": [
    "parseInputLine(line::String) =\n",
    "  begin\n",
    "    ranges = @pipe split(line, \",\") |> map(x -> split(x, \"-\"), _) |> map(x -> map(y -> parse(Int64, y), x), _) |> map(x -> first(x):last(x), _)\n",
    "    overlap = ranges |> Base.splat(intersect)\n",
    "    # Intersecting ranges is retarded(https://github.com/JuliaLang/julia/issues/40331) - also indexin is supposed to never return an empty array...\n",
    "    # return indexin(overlap, ranges)\n",
    "    #return @pipe indexin(overlap, ranges) |> collect |> (isempty(_) || first(_) == nothing) |> .!\n",
    "    return @pipe indexin(overlap, ranges) |> collect\n",
    "  end\n",
    "\n",
    "parseInputLineSane(line::String) =\n",
    "  begin\n",
    "    ranges = @pipe split(line, \",\") |> map(x -> split(x, \"-\"), _) |> map(x -> map(y -> parse(Int64, y), x), _) |> map(x -> collect(first(x):last(x)), _)\n",
    "    overlap = ranges |> Base.splat(intersect)\n",
    "    return @pipe filter(x -> x == overlap, ranges) |> (length(_) != 0)\n",
    "  end\n",
    "\n",
    "parseInputLine2(line::String) =\n",
    "  begin\n",
    "    ranges = @pipe split(line, \",\") |> map(x -> split(x, \"-\"), _) |> map(x -> map(y -> parse(Int64, y), x), _) |> map(x -> collect(first(x):last(x)), _)\n",
    "    overlap = ranges |> Base.splat(intersect)\n",
    "    return !isempty(collect(overlap))\n",
    "  end"
   ]
  },
  {
   "cell_type": "code",
   "execution_count": 99,
   "metadata": {},
   "outputs": [],
   "source": [
    "#eclipsingAssignments = Vector{Union{UnitRange{Int64},Nothing}}()\n",
    "eclipsingAssignments = Vector{Bool}()\n",
    "for assignmentPair in eachline(\"input.txt\")\n",
    "  @pipe assignmentPair |> parseInputLine2 |> push!(eclipsingAssignments, _)\n",
    "end"
   ]
  },
  {
   "cell_type": "code",
   "execution_count": 100,
   "metadata": {},
   "outputs": [
    {
     "data": {
      "text/plain": [
       "917"
      ]
     },
     "execution_count": 100,
     "metadata": {},
     "output_type": "execute_result"
    }
   ],
   "source": [
    "filter(x -> x == true, eclipsingAssignments) |> length"
   ]
  },
  {
   "cell_type": "markdown",
   "metadata": {},
   "source": [
    "Examples of how disgusting intersect is"
   ]
  },
  {
   "cell_type": "code",
   "execution_count": 14,
   "metadata": {},
   "outputs": [
    {
     "data": {
      "text/plain": [
       "2:4"
      ]
     },
     "execution_count": 14,
     "metadata": {},
     "output_type": "execute_result"
    }
   ],
   "source": [
    "intersect(1:6,2:4)"
   ]
  },
  {
   "cell_type": "code",
   "execution_count": 11,
   "metadata": {},
   "outputs": [
    {
     "data": {
      "text/plain": [
       "false"
      ]
     },
     "execution_count": 11,
     "metadata": {},
     "output_type": "execute_result"
    }
   ],
   "source": [
    "indexin(1, [2,3]) == nothing"
   ]
  },
  {
   "cell_type": "code",
   "execution_count": 54,
   "metadata": {},
   "outputs": [
    {
     "data": {
      "text/plain": [
       "true"
      ]
     },
     "execution_count": 54,
     "metadata": {},
     "output_type": "execute_result"
    }
   ],
   "source": [
    "isempty(collect(intersect(2:4, 6:8)))"
   ]
  },
  {
   "cell_type": "code",
   "execution_count": 52,
   "metadata": {},
   "outputs": [
    {
     "data": {
      "text/plain": [
       "-1:1"
      ]
     },
     "execution_count": 52,
     "metadata": {},
     "output_type": "execute_result"
    }
   ],
   "source": [
    "intersect(-1:1, -5:8)"
   ]
  },
  {
   "cell_type": "code",
   "execution_count": 64,
   "metadata": {},
   "outputs": [
    {
     "data": {
      "text/plain": [
       "1-element Vector{Union{Nothing, Int64}}:\n",
       " nothing"
      ]
     },
     "execution_count": 64,
     "metadata": {},
     "output_type": "execute_result"
    }
   ],
   "source": [
    "indexin(7:7, [5:7, 7:9]) |> collect"
   ]
  },
  {
   "cell_type": "code",
   "execution_count": 56,
   "metadata": {},
   "outputs": [
    {
     "data": {
      "text/plain": [
       "true"
      ]
     },
     "execution_count": 56,
     "metadata": {},
     "output_type": "execute_result"
    }
   ],
   "source": [
    "isempty(5:4)"
   ]
  },
  {
   "cell_type": "code",
   "execution_count": 84,
   "metadata": {},
   "outputs": [
    {
     "data": {
      "text/plain": [
       "1-element Vector{Vector{Int64}}:\n",
       " [3, 4, 5, 6, 7]"
      ]
     },
     "execution_count": 84,
     "metadata": {},
     "output_type": "execute_result"
    }
   ],
   "source": [
    "filter(x -> x == [3, 4, 5, 6, 7], [[2, 3, 4, 5, 6, 7, 8], [3, 4, 5, 6, 7]])\n"
   ]
  },
  {
   "cell_type": "code",
   "execution_count": null,
   "metadata": {},
   "outputs": [],
   "source": []
  }
 ],
 "metadata": {
  "kernelspec": {
   "display_name": "Julia 1.8.3",
   "language": "julia",
   "name": "julia-1.8"
  },
  "language_info": {
   "file_extension": ".jl",
   "mimetype": "application/julia",
   "name": "julia",
   "version": "1.8.3"
  },
  "orig_nbformat": 4
 },
 "nbformat": 4,
 "nbformat_minor": 2
}
