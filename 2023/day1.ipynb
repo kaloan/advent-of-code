{
 "cells": [
  {
   "cell_type": "code",
   "execution_count": 154,
   "metadata": {},
   "outputs": [
    {
     "data": {
      "text/plain": [
       "55447"
      ]
     },
     "execution_count": 154,
     "metadata": {},
     "output_type": "execute_result"
    }
   ],
   "source": [
    "import string\n",
    "file = open('input.txt', 'r')\n",
    "lines = file.readlines()\n",
    "\n",
    "sum(list(map(lambda line: int(''.join([list(filter(lambda char: char in string.digits, line))[i] for i in [0, -1]])), lines)))\n"
   ]
  },
  {
   "cell_type": "code",
   "execution_count": 155,
   "metadata": {},
   "outputs": [
    {
     "name": "stdout",
     "output_type": "stream",
     "text": [
      "54706\n"
     ]
    }
   ],
   "source": [
    "import re\n",
    "\n",
    "def digitalize(num):\n",
    "  match num:\n",
    "    case 'one':\n",
    "      return 1\n",
    "    case 'two':\n",
    "      return 2\n",
    "    case 'three':\n",
    "      return 3\n",
    "    case 'four':\n",
    "      return 4\n",
    "    case 'five':\n",
    "      return 5\n",
    "    case 'six':\n",
    "      return 6\n",
    "    case 'seven':\n",
    "      return 7\n",
    "    case 'eight':\n",
    "      return 8\n",
    "    case 'nine':\n",
    "      return 9\n",
    "    case x:\n",
    "      return int(x)\n",
    "    \n",
    "s = 0\n",
    "regex = re.compile(r'(\\d|one|two|three|four|five|six|seven|eight|nine)')\n",
    "regexRev = re.compile(r'(\\d|eno|owt|eerht|ruof|evif|xis|neves|thgie|enin)')\n",
    "for line in lines:\n",
    "  n1M = regex.search(line)\n",
    "  n1 = n1M.group(1)\n",
    "  n2M = regexRev.search(line[::-1])\n",
    "  n2 = n2M.group(1)[::-1]\n",
    "  s += digitalize(n1)*10 + digitalize(n2)\n",
    "\n",
    "print(s)\n"
   ]
  }
 ],
 "metadata": {
  "kernelspec": {
   "display_name": "Python 3",
   "language": "python",
   "name": "python3"
  },
  "language_info": {
   "codemirror_mode": {
    "name": "ipython",
    "version": 3
   },
   "file_extension": ".py",
   "mimetype": "text/x-python",
   "name": "python",
   "nbconvert_exporter": "python",
   "pygments_lexer": "ipython3",
   "version": "3.10.12"
  },
  "orig_nbformat": 4
 },
 "nbformat": 4,
 "nbformat_minor": 2
}
